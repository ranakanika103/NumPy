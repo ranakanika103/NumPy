{
 "cells": [
  {
   "cell_type": "code",
   "execution_count": 1,
   "id": "8f479f17-c287-4fc9-a6fd-e6d7b82247d8",
   "metadata": {},
   "outputs": [],
   "source": [
    "import numpy as np"
   ]
  },
  {
   "cell_type": "code",
   "execution_count": 4,
   "id": "5dbd927e-ff86-4f34-b1f3-56eb6740c1b4",
   "metadata": {},
   "outputs": [],
   "source": [
    "#seed fuction is for random function jo bhi isse use krenga uska same number aayega also same number has same randm numbers\n",
    "np.random.seed(50)"
   ]
  },
  {
   "cell_type": "code",
   "execution_count": 5,
   "id": "7268c3b2-8158-4ad1-824c-bbc12da4999f",
   "metadata": {},
   "outputs": [],
   "source": [
    "arr = np.random.randint(1,20,(3,3))"
   ]
  },
  {
   "cell_type": "code",
   "execution_count": 6,
   "id": "c6e76f5a-0c05-4627-a6e6-6fbf8aae498c",
   "metadata": {},
   "outputs": [
    {
     "data": {
      "text/plain": [
       "array([[17,  1, 12],\n",
       "       [14,  2,  5],\n",
       "       [ 7,  6,  7]], dtype=int32)"
      ]
     },
     "execution_count": 6,
     "metadata": {},
     "output_type": "execute_result"
    }
   ],
   "source": [
    "arr"
   ]
  },
  {
   "cell_type": "markdown",
   "id": "5d31c881-2f97-4330-9124-fe5d72eeb57b",
   "metadata": {},
   "source": [
    "### Indexing"
   ]
  },
  {
   "cell_type": "code",
   "execution_count": 7,
   "id": "919c11b6-639b-4154-93f9-f02965a5461f",
   "metadata": {},
   "outputs": [
    {
     "data": {
      "text/plain": [
       "array([7, 6, 7], dtype=int32)"
      ]
     },
     "execution_count": 7,
     "metadata": {},
     "output_type": "execute_result"
    }
   ],
   "source": [
    "#0,1,2....pehle row fir coloumn\n",
    "arr[2]"
   ]
  },
  {
   "cell_type": "code",
   "execution_count": 9,
   "id": "8249148d-a793-4cbe-923b-157220d6d087",
   "metadata": {},
   "outputs": [
    {
     "data": {
      "text/plain": [
       "np.int32(7)"
      ]
     },
     "execution_count": 9,
     "metadata": {},
     "output_type": "execute_result"
    }
   ],
   "source": [
    "arr[2][0]"
   ]
  },
  {
   "cell_type": "code",
   "execution_count": 13,
   "id": "e91221f0-6dd0-4b70-8969-f95a1a1e1358",
   "metadata": {},
   "outputs": [
    {
     "data": {
      "text/plain": [
       "np.int32(7)"
      ]
     },
     "execution_count": 13,
     "metadata": {},
     "output_type": "execute_result"
    }
   ],
   "source": [
    "arr[2,0]"
   ]
  },
  {
   "cell_type": "code",
   "execution_count": 10,
   "id": "2a320c73-3a62-4b7d-acf1-46f6a018b25e",
   "metadata": {},
   "outputs": [
    {
     "data": {
      "text/plain": [
       "array([17,  1, 12], dtype=int32)"
      ]
     },
     "execution_count": 10,
     "metadata": {},
     "output_type": "execute_result"
    }
   ],
   "source": [
    "arr[0]"
   ]
  },
  {
   "cell_type": "code",
   "execution_count": 11,
   "id": "7e60aa07-a304-4cf0-bc67-b8121533c6ff",
   "metadata": {},
   "outputs": [
    {
     "data": {
      "text/plain": [
       "array([14,  2,  5], dtype=int32)"
      ]
     },
     "execution_count": 11,
     "metadata": {},
     "output_type": "execute_result"
    }
   ],
   "source": [
    "arr[1]"
   ]
  },
  {
   "cell_type": "code",
   "execution_count": 14,
   "id": "b10c02f1-cb79-4cb7-b8c5-5fd837069cda",
   "metadata": {},
   "outputs": [],
   "source": [
    "arr = np.random.randint(1,20,(3,5,4))"
   ]
  },
  {
   "cell_type": "code",
   "execution_count": 15,
   "id": "d95d3380-712d-494b-bd7c-d08f84e5bb82",
   "metadata": {},
   "outputs": [
    {
     "data": {
      "text/plain": [
       "array([[[14,  6,  3,  8],\n",
       "        [16,  5, 15,  4],\n",
       "        [ 7, 12, 18, 11],\n",
       "        [10,  1,  7,  3],\n",
       "        [16, 10,  4,  3]],\n",
       "\n",
       "       [[13,  1,  4,  3],\n",
       "        [11, 17, 15,  1],\n",
       "        [ 1, 12,  8, 15],\n",
       "        [14,  8,  5,  5],\n",
       "        [ 1, 12,  1, 14]],\n",
       "\n",
       "       [[14,  2, 10, 12],\n",
       "        [ 6,  1, 16,  6],\n",
       "        [ 7,  2,  5,  5],\n",
       "        [13, 15,  5, 12],\n",
       "        [ 1,  6,  9, 13]]], dtype=int32)"
      ]
     },
     "execution_count": 15,
     "metadata": {},
     "output_type": "execute_result"
    }
   ],
   "source": [
    "arr"
   ]
  },
  {
   "cell_type": "code",
   "execution_count": 16,
   "id": "da68ebd8-7639-497b-b93c-834ad361e4b7",
   "metadata": {},
   "outputs": [
    {
     "data": {
      "text/plain": [
       "array([[13,  1,  4,  3],\n",
       "       [11, 17, 15,  1],\n",
       "       [ 1, 12,  8, 15],\n",
       "       [14,  8,  5,  5],\n",
       "       [ 1, 12,  1, 14]], dtype=int32)"
      ]
     },
     "execution_count": 16,
     "metadata": {},
     "output_type": "execute_result"
    }
   ],
   "source": [
    "arr[1]"
   ]
  },
  {
   "cell_type": "code",
   "execution_count": 17,
   "id": "c30a0fe7-a572-4b8b-a17e-4edf169e98dd",
   "metadata": {},
   "outputs": [
    {
     "data": {
      "text/plain": [
       "array([[14,  6,  3,  8],\n",
       "       [16,  5, 15,  4],\n",
       "       [ 7, 12, 18, 11],\n",
       "       [10,  1,  7,  3],\n",
       "       [16, 10,  4,  3]], dtype=int32)"
      ]
     },
     "execution_count": 17,
     "metadata": {},
     "output_type": "execute_result"
    }
   ],
   "source": [
    "arr[0]"
   ]
  },
  {
   "cell_type": "code",
   "execution_count": 18,
   "id": "1b177161-8108-437d-8f1f-7ccca271af5b",
   "metadata": {},
   "outputs": [
    {
     "data": {
      "text/plain": [
       "array([16,  5, 15,  4], dtype=int32)"
      ]
     },
     "execution_count": 18,
     "metadata": {},
     "output_type": "execute_result"
    }
   ],
   "source": [
    "arr[0,1]"
   ]
  },
  {
   "cell_type": "code",
   "execution_count": 19,
   "id": "a4c66dfa-a6e6-473c-a58d-d3fbb94f10c0",
   "metadata": {},
   "outputs": [
    {
     "data": {
      "text/plain": [
       "np.int32(15)"
      ]
     },
     "execution_count": 19,
     "metadata": {},
     "output_type": "execute_result"
    }
   ],
   "source": [
    "arr[0,1,2]"
   ]
  },
  {
   "cell_type": "code",
   "execution_count": 22,
   "id": "01a9f809-daa7-4257-bfe3-3e949672418e",
   "metadata": {},
   "outputs": [
    {
     "data": {
      "text/plain": [
       "np.int32(5)"
      ]
     },
     "execution_count": 22,
     "metadata": {},
     "output_type": "execute_result"
    }
   ],
   "source": [
    "arr[1,3,3]"
   ]
  },
  {
   "cell_type": "markdown",
   "id": "f7f09b4a-71ad-4b71-a10e-fe25c37b111d",
   "metadata": {},
   "source": [
    "### Slicing"
   ]
  },
  {
   "cell_type": "code",
   "execution_count": 26,
   "id": "407c665c-41b1-407c-a9ba-ab6bbb82af90",
   "metadata": {},
   "outputs": [],
   "source": [
    "arr = np.random.randint(1,20,(5,5))"
   ]
  },
  {
   "cell_type": "code",
   "execution_count": 27,
   "id": "5f56ed21-c2b8-4160-b312-7ca1cea31ab8",
   "metadata": {},
   "outputs": [
    {
     "data": {
      "text/plain": [
       "array([[ 4,  7, 19,  9, 16],\n",
       "       [ 6, 16,  5,  5, 19],\n",
       "       [16, 11, 18,  9, 15],\n",
       "       [12,  8, 10,  2,  9],\n",
       "       [ 4,  4, 11,  4,  7]], dtype=int32)"
      ]
     },
     "execution_count": 27,
     "metadata": {},
     "output_type": "execute_result"
    }
   ],
   "source": [
    "arr"
   ]
  },
  {
   "cell_type": "code",
   "execution_count": 28,
   "id": "d0e78f76-c1d8-4e21-bdaa-a26ebac0cc66",
   "metadata": {},
   "outputs": [
    {
     "data": {
      "text/plain": [
       "array([[11, 18],\n",
       "       [ 8, 10]], dtype=int32)"
      ]
     },
     "execution_count": 28,
     "metadata": {},
     "output_type": "execute_result"
    }
   ],
   "source": [
    "#pehle row ki fir coloumn ki(start :upto but not included)\n",
    "arr[2:4 , 1:3]"
   ]
  },
  {
   "cell_type": "code",
   "execution_count": 39,
   "id": "96255b83-5280-45f6-98bf-02965e767427",
   "metadata": {},
   "outputs": [
    {
     "data": {
      "text/plain": [
       "array([16, 12], dtype=int32)"
      ]
     },
     "execution_count": 39,
     "metadata": {},
     "output_type": "execute_result"
    }
   ],
   "source": [
    "arr[2:4 , 0]"
   ]
  },
  {
   "cell_type": "code",
   "execution_count": 40,
   "id": "58fbc5f9-0163-4a61-9db0-051606dfa84e",
   "metadata": {},
   "outputs": [
    {
     "data": {
      "text/plain": [
       "array([[16, 11, 18],\n",
       "       [12,  8, 10]], dtype=int32)"
      ]
     },
     "execution_count": 40,
     "metadata": {},
     "output_type": "execute_result"
    }
   ],
   "source": [
    "arr[2:4, 0:3]"
   ]
  },
  {
   "cell_type": "code",
   "execution_count": 43,
   "id": "720d76ec-8a30-42af-9c3f-a8fd0918348f",
   "metadata": {},
   "outputs": [],
   "source": [
    "arr = np.random.randint(1,20,(3,5,4))"
   ]
  },
  {
   "cell_type": "code",
   "execution_count": 44,
   "id": "bd05de8a-03e0-483a-86e9-a6b9fcd17185",
   "metadata": {},
   "outputs": [
    {
     "data": {
      "text/plain": [
       "array([[[16,  1, 19, 12],\n",
       "        [ 2, 18, 15, 15],\n",
       "        [ 6,  7, 10,  5],\n",
       "        [10,  1, 16, 17],\n",
       "        [18, 17,  5, 12]],\n",
       "\n",
       "       [[ 2,  6, 14,  4],\n",
       "        [15,  3,  9,  7],\n",
       "        [ 1, 15, 14,  5],\n",
       "        [17, 15,  5, 12],\n",
       "        [17, 18, 15, 16]],\n",
       "\n",
       "       [[ 4,  5, 10,  5],\n",
       "        [ 8, 18, 14, 10],\n",
       "        [15, 14, 16,  4],\n",
       "        [ 7, 13, 11, 15],\n",
       "        [ 1, 14, 14,  1]]], dtype=int32)"
      ]
     },
     "execution_count": 44,
     "metadata": {},
     "output_type": "execute_result"
    }
   ],
   "source": [
    "arr"
   ]
  },
  {
   "cell_type": "code",
   "execution_count": 45,
   "id": "158eb929-26d8-43bb-af62-164e9fe98bca",
   "metadata": {},
   "outputs": [
    {
     "data": {
      "text/plain": [
       "array([[ 2,  6, 14,  4],\n",
       "       [15,  3,  9,  7],\n",
       "       [ 1, 15, 14,  5],\n",
       "       [17, 15,  5, 12],\n",
       "       [17, 18, 15, 16]], dtype=int32)"
      ]
     },
     "execution_count": 45,
     "metadata": {},
     "output_type": "execute_result"
    }
   ],
   "source": [
    "arr[1]"
   ]
  },
  {
   "cell_type": "code",
   "execution_count": 80,
   "id": "67c86821-764f-43d1-8afb-39009fea41ae",
   "metadata": {},
   "outputs": [
    {
     "data": {
      "text/plain": [
       "array([[[16,  1, 19, 12],\n",
       "        [ 2, 18, 15, 15],\n",
       "        [ 6,  7, 10,  5],\n",
       "        [10,  1, 16, 17],\n",
       "        [18, 17,  5, 12]],\n",
       "\n",
       "       [[ 2,  6, 14,  4],\n",
       "        [15,  3,  9,  7],\n",
       "        [ 1, 15, 14,  5],\n",
       "        [17, 15,  5, 12],\n",
       "        [17, 18, 15, 16]]], dtype=int32)"
      ]
     },
     "execution_count": 80,
     "metadata": {},
     "output_type": "execute_result"
    }
   ],
   "source": [
    "arr[0:2 ]"
   ]
  },
  {
   "cell_type": "code",
   "execution_count": 52,
   "id": "0ded3b28-d4b3-4c59-9a4a-0483cd62a076",
   "metadata": {},
   "outputs": [
    {
     "data": {
      "text/plain": [
       "array([[16,  1, 19, 12],\n",
       "       [ 2, 18, 15, 15],\n",
       "       [ 6,  7, 10,  5],\n",
       "       [10,  1, 16, 17],\n",
       "       [18, 17,  5, 12]], dtype=int32)"
      ]
     },
     "execution_count": 52,
     "metadata": {},
     "output_type": "execute_result"
    }
   ],
   "source": [
    "arr[0:2][0]"
   ]
  },
  {
   "cell_type": "code",
   "execution_count": 89,
   "id": "1018be11-3302-4a66-824e-fd34bab10d4a",
   "metadata": {},
   "outputs": [
    {
     "data": {
      "text/plain": [
       "array([[16,  1, 19, 12],\n",
       "       [ 2,  6, 14,  4]], dtype=int32)"
      ]
     },
     "execution_count": 89,
     "metadata": {},
     "output_type": "execute_result"
    }
   ],
   "source": [
    "arr[0:2 , 0]"
   ]
  },
  {
   "cell_type": "code",
   "execution_count": 72,
   "id": "a540a5ef-60ad-4694-a714-d45be42306bb",
   "metadata": {},
   "outputs": [
    {
     "data": {
      "text/plain": [
       "array([1, 6], dtype=int32)"
      ]
     },
     "execution_count": 72,
     "metadata": {},
     "output_type": "execute_result"
    }
   ],
   "source": [
    "arr[0:2 , 0 ,1 ]"
   ]
  },
  {
   "cell_type": "code",
   "execution_count": 82,
   "id": "53deda48-a97a-4c21-82cc-cacc2503db63",
   "metadata": {},
   "outputs": [
    {
     "data": {
      "text/plain": [
       "array([[ 6,  7, 10,  5],\n",
       "       [ 1, 15, 14,  5]], dtype=int32)"
      ]
     },
     "execution_count": 82,
     "metadata": {},
     "output_type": "execute_result"
    }
   ],
   "source": [
    "arr[0:2 , 2]"
   ]
  },
  {
   "cell_type": "code",
   "execution_count": 94,
   "id": "09fff105-cb8e-4bfc-a7a7-aa3aaad051d6",
   "metadata": {},
   "outputs": [
    {
     "data": {
      "text/plain": [
       "array([[[16,  1, 19, 12],\n",
       "        [ 2, 18, 15, 15]],\n",
       "\n",
       "       [[ 2,  6, 14,  4],\n",
       "        [15,  3,  9,  7]]], dtype=int32)"
      ]
     },
     "execution_count": 94,
     "metadata": {},
     "output_type": "execute_result"
    }
   ],
   "source": [
    "arr[0:2, 0:2]"
   ]
  },
  {
   "cell_type": "code",
   "execution_count": 99,
   "id": "4cf0eadd-b317-4716-a0aa-50854f7f12e6",
   "metadata": {},
   "outputs": [
    {
     "data": {
      "text/plain": [
       "array([[ 1, 18],\n",
       "       [ 6,  3]], dtype=int32)"
      ]
     },
     "execution_count": 99,
     "metadata": {},
     "output_type": "execute_result"
    }
   ],
   "source": [
    "arr[0:2 , 0:2 , 1]"
   ]
  },
  {
   "cell_type": "code",
   "execution_count": null,
   "id": "f76a4cc2-42b6-4db3-ad95-2484eb87e426",
   "metadata": {},
   "outputs": [],
   "source": []
  },
  {
   "cell_type": "code",
   "execution_count": 100,
   "id": "b892d734-f3c8-447c-8564-d24e7c2b01e9",
   "metadata": {},
   "outputs": [
    {
     "data": {
      "text/plain": [
       "array([[[ 1, 19],\n",
       "        [18, 15]],\n",
       "\n",
       "       [[ 6, 14],\n",
       "        [ 3,  9]]], dtype=int32)"
      ]
     },
     "execution_count": 100,
     "metadata": {},
     "output_type": "execute_result"
    }
   ],
   "source": [
    "arr[0:2 , 0:2 , 1:3]"
   ]
  },
  {
   "cell_type": "code",
   "execution_count": 104,
   "id": "fefc8699-b6f0-4bab-b822-cb78597b6a17",
   "metadata": {},
   "outputs": [
    {
     "data": {
      "text/plain": [
       "array([[15, 14, 16,  4],\n",
       "       [ 7, 13, 11, 15],\n",
       "       [ 1, 14, 14,  1]], dtype=int32)"
      ]
     },
     "execution_count": 104,
     "metadata": {},
     "output_type": "execute_result"
    }
   ],
   "source": [
    "arr[2, 2:]"
   ]
  },
  {
   "cell_type": "code",
   "execution_count": 101,
   "id": "fa0e3c8e-98dd-412c-97f3-a292fbceffbc",
   "metadata": {},
   "outputs": [
    {
     "data": {
      "text/plain": [
       "array([[15, 14, 16],\n",
       "       [ 7, 13, 11],\n",
       "       [ 1, 14, 14]], dtype=int32)"
      ]
     },
     "execution_count": 101,
     "metadata": {},
     "output_type": "execute_result"
    }
   ],
   "source": [
    "#layer2,row 2: , col1:upto col3\n",
    "arr[2,2:,0:3]"
   ]
  },
  {
   "cell_type": "code",
   "execution_count": 123,
   "id": "df08ca36-afd7-4d3b-8923-aaa3c2aa4284",
   "metadata": {},
   "outputs": [
    {
     "data": {
      "text/plain": [
       "array([[[16,  1, 19, 12],\n",
       "        [ 2, 18, 15, 15],\n",
       "        [ 6,  7, 10,  5],\n",
       "        [10,  1, 16, 17],\n",
       "        [18, 17,  5, 12]],\n",
       "\n",
       "       [[ 2,  6, 14,  4],\n",
       "        [15,  3,  9,  7],\n",
       "        [ 1, 15, 14,  5],\n",
       "        [17, 15,  5, 12],\n",
       "        [17, 18, 15, 16]],\n",
       "\n",
       "       [[ 4,  5, 10,  5],\n",
       "        [ 8, 18, 14, 10],\n",
       "        [15, 14, 16,  4],\n",
       "        [ 7, 13, 11, 15],\n",
       "        [ 1, 14, 14,  1]]], dtype=int32)"
      ]
     },
     "execution_count": 123,
     "metadata": {},
     "output_type": "execute_result"
    }
   ],
   "source": [
    "arr"
   ]
  },
  {
   "cell_type": "code",
   "execution_count": 106,
   "id": "2d6dc020-74e1-4d06-b32b-faf3b742f3e5",
   "metadata": {},
   "outputs": [
    {
     "data": {
      "text/plain": [
       "array([[ 7, 13],\n",
       "       [ 1, 14]], dtype=int32)"
      ]
     },
     "execution_count": 106,
     "metadata": {},
     "output_type": "execute_result"
    }
   ],
   "source": [
    "# layer, row, elements, row ,  elements\n",
    "arr[2,2:,0:3][1:,0:2]"
   ]
  },
  {
   "cell_type": "code",
   "execution_count": 107,
   "id": "76a0f71d-6d79-4257-ad28-2b4a739c8932",
   "metadata": {},
   "outputs": [
    {
     "data": {
      "text/plain": [
       "array([[[16,  1, 19, 12],\n",
       "        [ 2, 18, 15, 15],\n",
       "        [ 6,  7, 10,  5],\n",
       "        [10,  1, 16, 17],\n",
       "        [18, 17,  5, 12]],\n",
       "\n",
       "       [[ 2,  6, 14,  4],\n",
       "        [15,  3,  9,  7],\n",
       "        [ 1, 15, 14,  5],\n",
       "        [17, 15,  5, 12],\n",
       "        [17, 18, 15, 16]],\n",
       "\n",
       "       [[ 4,  5, 10,  5],\n",
       "        [ 8, 18, 14, 10],\n",
       "        [15, 14, 16,  4],\n",
       "        [ 7, 13, 11, 15],\n",
       "        [ 1, 14, 14,  1]]], dtype=int32)"
      ]
     },
     "execution_count": 107,
     "metadata": {},
     "output_type": "execute_result"
    }
   ],
   "source": [
    "arr"
   ]
  },
  {
   "cell_type": "code",
   "execution_count": 115,
   "id": "6c1def2f-0431-4274-a239-c0ff3c0f35b5",
   "metadata": {},
   "outputs": [
    {
     "data": {
      "text/plain": [
       "array([[[ 2,  6, 14,  4],\n",
       "        [15,  3,  9,  7],\n",
       "        [ 1, 15, 14,  5],\n",
       "        [17, 15,  5, 12],\n",
       "        [17, 18, 15, 16]],\n",
       "\n",
       "       [[ 4,  5, 10,  5],\n",
       "        [ 8, 18, 14, 10],\n",
       "        [15, 14, 16,  4],\n",
       "        [ 7, 13, 11, 15],\n",
       "        [ 1, 14, 14,  1]]], dtype=int32)"
      ]
     },
     "execution_count": 115,
     "metadata": {},
     "output_type": "execute_result"
    }
   ],
   "source": [
    "arr[1:4]"
   ]
  },
  {
   "cell_type": "code",
   "execution_count": 112,
   "id": "f2bcfd15-94bd-4703-80a8-aa6a327c0df0",
   "metadata": {},
   "outputs": [
    {
     "data": {
      "text/plain": [
       "array([[[ 2, 18, 15, 15],\n",
       "        [ 6,  7, 10,  5],\n",
       "        [10,  1, 16, 17]],\n",
       "\n",
       "       [[15,  3,  9,  7],\n",
       "        [ 1, 15, 14,  5],\n",
       "        [17, 15,  5, 12]],\n",
       "\n",
       "       [[ 8, 18, 14, 10],\n",
       "        [15, 14, 16,  4],\n",
       "        [ 7, 13, 11, 15]]], dtype=int32)"
      ]
     },
     "execution_count": 112,
     "metadata": {},
     "output_type": "execute_result"
    }
   ],
   "source": [
    "arr[:, 1:4]"
   ]
  },
  {
   "cell_type": "code",
   "execution_count": 121,
   "id": "1a50b021-fd9a-4710-bb77-3703d3a4aafe",
   "metadata": {},
   "outputs": [
    {
     "data": {
      "text/plain": [
       "array([[ 2,  6, 10],\n",
       "       [15,  1, 17],\n",
       "       [ 8, 15,  7]], dtype=int32)"
      ]
     },
     "execution_count": 121,
     "metadata": {},
     "output_type": "execute_result"
    }
   ],
   "source": [
    "# all layers , rows, elements\n",
    "arr[:, 1:4 , 0]"
   ]
  },
  {
   "cell_type": "code",
   "execution_count": 130,
   "id": "e398d912-ffe6-4fd5-baf1-9909a2047784",
   "metadata": {},
   "outputs": [
    {
     "data": {
      "text/plain": [
       "np.int32(10)"
      ]
     },
     "execution_count": 130,
     "metadata": {},
     "output_type": "execute_result"
    }
   ],
   "source": [
    "# all layers , rows , layer , row, element\n",
    "arr[:, 1:4][0, 1, 2]"
   ]
  },
  {
   "cell_type": "code",
   "execution_count": 131,
   "id": "5732f948-53b5-49ec-8f8f-26e428d46865",
   "metadata": {},
   "outputs": [
    {
     "data": {
      "text/plain": [
       "array([[[18, 15],\n",
       "        [ 7, 10],\n",
       "        [ 1, 16]],\n",
       "\n",
       "       [[ 3,  9],\n",
       "        [15, 14],\n",
       "        [15,  5]],\n",
       "\n",
       "       [[18, 14],\n",
       "        [14, 16],\n",
       "        [13, 11]]], dtype=int32)"
      ]
     },
     "execution_count": 131,
     "metadata": {},
     "output_type": "execute_result"
    }
   ],
   "source": [
    "arr[:, 1:4, 1:3]"
   ]
  },
  {
   "cell_type": "code",
   "execution_count": 133,
   "id": "517a8b1c-7a45-4a5a-94c7-a63ec907987d",
   "metadata": {},
   "outputs": [],
   "source": [
    "arr1 = np.random.randint(1,50,(5,5,5))"
   ]
  },
  {
   "cell_type": "code",
   "execution_count": 134,
   "id": "c4d3a7e1-fef3-4925-9c7e-f958807d939c",
   "metadata": {},
   "outputs": [
    {
     "data": {
      "text/plain": [
       "array([[[ 9, 48, 46, 33, 43],\n",
       "        [15, 45,  5, 41, 43],\n",
       "        [43, 33,  8, 37, 26],\n",
       "        [12, 27, 46, 33, 41],\n",
       "        [24, 48, 39,  4, 29]],\n",
       "\n",
       "       [[ 6, 44, 29,  2, 48],\n",
       "        [36,  4,  1, 47, 43],\n",
       "        [13, 38, 13, 33, 22],\n",
       "        [44, 15, 20, 46, 17],\n",
       "        [34, 20, 48, 44, 33]],\n",
       "\n",
       "       [[ 5, 46, 42, 16, 19],\n",
       "        [32, 23,  3,  6,  2],\n",
       "        [34, 26, 11, 19,  9],\n",
       "        [15, 18, 16, 29, 34],\n",
       "        [24, 42, 40, 23, 42]],\n",
       "\n",
       "       [[21, 29, 20, 20, 47],\n",
       "        [37,  6,  1, 40, 40],\n",
       "        [49, 28, 25,  3, 11],\n",
       "        [10,  7, 42, 38, 46],\n",
       "        [19, 45, 38, 11, 38]],\n",
       "\n",
       "       [[16, 14, 22,  8, 39],\n",
       "        [ 1, 44, 49, 40, 11],\n",
       "        [15,  8, 27, 36, 26],\n",
       "        [11, 46, 16,  1, 30],\n",
       "        [46,  1, 43, 20, 33]]], dtype=int32)"
      ]
     },
     "execution_count": 134,
     "metadata": {},
     "output_type": "execute_result"
    }
   ],
   "source": [
    "arr1"
   ]
  },
  {
   "cell_type": "code",
   "execution_count": 136,
   "id": "5f743afc-2010-43a4-9f24-83faaf1131bb",
   "metadata": {},
   "outputs": [
    {
     "data": {
      "text/plain": [
       "array([[24, 48, 39,  4, 29],\n",
       "       [34, 20, 48, 44, 33],\n",
       "       [24, 42, 40, 23, 42],\n",
       "       [19, 45, 38, 11, 38],\n",
       "       [46,  1, 43, 20, 33]], dtype=int32)"
      ]
     },
     "execution_count": 136,
     "metadata": {},
     "output_type": "execute_result"
    }
   ],
   "source": [
    "arr1[:,4]"
   ]
  },
  {
   "cell_type": "code",
   "execution_count": 137,
   "id": "dfde2f3c-a254-4f18-b825-45c9cbee00a2",
   "metadata": {},
   "outputs": [
    {
     "data": {
      "text/plain": [
       "array([[[33,  8],\n",
       "        [27, 46]],\n",
       "\n",
       "       [[38, 13],\n",
       "        [15, 20]],\n",
       "\n",
       "       [[26, 11],\n",
       "        [18, 16]],\n",
       "\n",
       "       [[28, 25],\n",
       "        [ 7, 42]],\n",
       "\n",
       "       [[ 8, 27],\n",
       "        [46, 16]]], dtype=int32)"
      ]
     },
     "execution_count": 137,
     "metadata": {},
     "output_type": "execute_result"
    }
   ],
   "source": [
    "arr1[:, 2:4, 1:3]"
   ]
  },
  {
   "cell_type": "code",
   "execution_count": 138,
   "id": "a473c7a2-4f02-4767-9df8-7e8d4db04953",
   "metadata": {},
   "outputs": [],
   "source": [
    "arr = np.random.randint(1,10,(4,4))"
   ]
  },
  {
   "cell_type": "code",
   "execution_count": 139,
   "id": "78ddf272-dbe2-4c5f-bc66-8bf12f8a5813",
   "metadata": {},
   "outputs": [
    {
     "data": {
      "text/plain": [
       "array([[5, 2, 5, 5],\n",
       "       [6, 9, 3, 3],\n",
       "       [3, 2, 8, 6],\n",
       "       [6, 5, 8, 9]], dtype=int32)"
      ]
     },
     "execution_count": 139,
     "metadata": {},
     "output_type": "execute_result"
    }
   ],
   "source": [
    "arr"
   ]
  },
  {
   "cell_type": "code",
   "execution_count": 140,
   "id": "ac13c324-e373-4799-b4b7-fc0812391cfd",
   "metadata": {},
   "outputs": [
    {
     "data": {
      "text/plain": [
       "array([6, 5, 8, 9], dtype=int32)"
      ]
     },
     "execution_count": 140,
     "metadata": {},
     "output_type": "execute_result"
    }
   ],
   "source": [
    "#-1 se last row bahr aa jati hai\n",
    "arr[-1]"
   ]
  },
  {
   "cell_type": "code",
   "execution_count": 141,
   "id": "b8ef6a77-64fb-4808-9267-4596b0489b57",
   "metadata": {},
   "outputs": [
    {
     "data": {
      "text/plain": [
       "np.int32(5)"
      ]
     },
     "execution_count": 141,
     "metadata": {},
     "output_type": "execute_result"
    }
   ],
   "source": [
    "arr[-1,1]"
   ]
  },
  {
   "cell_type": "code",
   "execution_count": 142,
   "id": "66e40c98-87f7-48b8-83e8-1d1bfdc572df",
   "metadata": {},
   "outputs": [],
   "source": [
    "#u can change the number by positioning \n",
    "arr[-1,1] = 9"
   ]
  },
  {
   "cell_type": "code",
   "execution_count": 143,
   "id": "bcbcc965-05a5-4f26-8a06-ef6af6afec39",
   "metadata": {},
   "outputs": [
    {
     "data": {
      "text/plain": [
       "array([[5, 2, 5, 5],\n",
       "       [6, 9, 3, 3],\n",
       "       [3, 2, 8, 6],\n",
       "       [6, 9, 8, 9]], dtype=int32)"
      ]
     },
     "execution_count": 143,
     "metadata": {},
     "output_type": "execute_result"
    }
   ],
   "source": [
    "arr"
   ]
  },
  {
   "cell_type": "code",
   "execution_count": 144,
   "id": "969c3e9e-fd47-45ff-9233-6b168bd046dd",
   "metadata": {},
   "outputs": [],
   "source": [
    "#agr sabhi values ki baat change krni ho\n",
    "arr[2:,0:2] = 5"
   ]
  },
  {
   "cell_type": "code",
   "execution_count": 145,
   "id": "2e439c04-b932-479c-9d0d-3a61939da4d0",
   "metadata": {},
   "outputs": [
    {
     "data": {
      "text/plain": [
       "array([[5, 2, 5, 5],\n",
       "       [6, 9, 3, 3],\n",
       "       [5, 5, 8, 6],\n",
       "       [5, 5, 8, 9]], dtype=int32)"
      ]
     },
     "execution_count": 145,
     "metadata": {},
     "output_type": "execute_result"
    }
   ],
   "source": [
    "arr"
   ]
  },
  {
   "cell_type": "code",
   "execution_count": 149,
   "id": "ef533233-bcc4-493c-aefb-22a8a7018a51",
   "metadata": {},
   "outputs": [],
   "source": [
    "arr[1:,1:4]=0"
   ]
  },
  {
   "cell_type": "code",
   "execution_count": 150,
   "id": "9daf7ca3-cb86-451c-8fb8-719ff8ee26ea",
   "metadata": {},
   "outputs": [
    {
     "data": {
      "text/plain": [
       "array([[5, 2, 5, 5],\n",
       "       [6, 0, 0, 0],\n",
       "       [5, 0, 0, 0],\n",
       "       [5, 0, 0, 0]], dtype=int32)"
      ]
     },
     "execution_count": 150,
     "metadata": {},
     "output_type": "execute_result"
    }
   ],
   "source": [
    "arr"
   ]
  },
  {
   "cell_type": "code",
   "execution_count": 155,
   "id": "2cc78064-3d8f-4e5b-83ea-6f4d87a5375f",
   "metadata": {},
   "outputs": [],
   "source": [
    "arr= np.random.randint(1,20,(4,4))"
   ]
  },
  {
   "cell_type": "code",
   "execution_count": 156,
   "id": "a39341ff-1104-4ea1-bfdd-99651052bcf9",
   "metadata": {},
   "outputs": [
    {
     "data": {
      "text/plain": [
       "array([[18, 16, 12,  5],\n",
       "       [13, 19, 19, 11],\n",
       "       [ 6,  1, 14, 17],\n",
       "       [ 2,  9,  4,  4]], dtype=int32)"
      ]
     },
     "execution_count": 156,
     "metadata": {},
     "output_type": "execute_result"
    }
   ],
   "source": [
    "arr"
   ]
  },
  {
   "cell_type": "code",
   "execution_count": 167,
   "id": "e5579b08-5073-4ebd-9f4a-abe72a9caf00",
   "metadata": {},
   "outputs": [],
   "source": [
    "# row and elements\n",
    "a = arr[-2: , -2:]"
   ]
  },
  {
   "cell_type": "code",
   "execution_count": 168,
   "id": "182f0a64-26fb-4174-a078-cd257fe3282d",
   "metadata": {},
   "outputs": [
    {
     "data": {
      "text/plain": [
       "array([[14, 17],\n",
       "       [ 4,  4]], dtype=int32)"
      ]
     },
     "execution_count": 168,
     "metadata": {},
     "output_type": "execute_result"
    }
   ],
   "source": [
    "a"
   ]
  },
  {
   "cell_type": "code",
   "execution_count": 173,
   "id": "b704064d-d39e-411d-a921-5111c540f94a",
   "metadata": {},
   "outputs": [
    {
     "data": {
      "text/plain": [
       "array([[18, 16, 12, 17],\n",
       "       [13, 19, 19, 11],\n",
       "       [ 6,  1, 14, 17],\n",
       "       [ 2,  9,  4,  4]], dtype=int32)"
      ]
     },
     "execution_count": 173,
     "metadata": {},
     "output_type": "execute_result"
    }
   ],
   "source": [
    "arr"
   ]
  },
  {
   "cell_type": "code",
   "execution_count": 178,
   "id": "5bd0d2e3-f874-4ef6-8adf-702475c7d97d",
   "metadata": {},
   "outputs": [],
   "source": [
    "arr[0,-1]=100"
   ]
  },
  {
   "cell_type": "code",
   "execution_count": 183,
   "id": "3a573e1d-b081-4ed9-9d8b-8c6d12611926",
   "metadata": {},
   "outputs": [
    {
     "data": {
      "text/plain": [
       "array([[ 18,  16,  12, 100],\n",
       "       [ 13,  19,  19,  11],\n",
       "       [  6,   1,  14, 100],\n",
       "       [  2,   9,   4,   4]], dtype=int32)"
      ]
     },
     "execution_count": 183,
     "metadata": {},
     "output_type": "execute_result"
    }
   ],
   "source": [
    "#or  original array me bhi change hogeya \n",
    "arr"
   ]
  },
  {
   "cell_type": "code",
   "execution_count": 182,
   "id": "e8b3f991-797e-4881-a3f5-637b0918c5c7",
   "metadata": {},
   "outputs": [
    {
     "data": {
      "text/plain": [
       "array([[ 14, 100],\n",
       "       [  4,   4]], dtype=int32)"
      ]
     },
     "execution_count": 182,
     "metadata": {},
     "output_type": "execute_result"
    }
   ],
   "source": [
    "#a mai bhi change ho geya \n",
    "a"
   ]
  },
  {
   "cell_type": "code",
   "execution_count": 184,
   "id": "4f805556-093e-4fee-ba52-d5f82b2abae8",
   "metadata": {},
   "outputs": [],
   "source": [
    "arr = np.arange(9)\n",
    "arr = arr.reshape(3,3)\n"
   ]
  },
  {
   "cell_type": "code",
   "execution_count": 185,
   "id": "f1ac9f6a-7f92-4a4c-ab9c-015cab9cee3c",
   "metadata": {},
   "outputs": [
    {
     "data": {
      "text/plain": [
       "array([[0, 1, 2],\n",
       "       [3, 4, 5],\n",
       "       [6, 7, 8]])"
      ]
     },
     "execution_count": 185,
     "metadata": {},
     "output_type": "execute_result"
    }
   ],
   "source": [
    "arr"
   ]
  },
  {
   "cell_type": "code",
   "execution_count": 201,
   "id": "6debbc07-14ba-45e5-a049-b6407cb1c0ea",
   "metadata": {},
   "outputs": [],
   "source": [
    "a= arr"
   ]
  },
  {
   "cell_type": "code",
   "execution_count": 202,
   "id": "6607d6c0-5c90-4602-a720-e6bf987d7126",
   "metadata": {},
   "outputs": [],
   "source": [
    "b = arr.copy()"
   ]
  },
  {
   "cell_type": "code",
   "execution_count": 203,
   "id": "fc5186d7-78d4-4b6a-a1ef-cb9ca5997f2e",
   "metadata": {},
   "outputs": [],
   "source": [
    "a[0][0] = 50"
   ]
  },
  {
   "cell_type": "code",
   "execution_count": 204,
   "id": "478f310e-34e8-43e6-9c99-00bd0600319f",
   "metadata": {},
   "outputs": [
    {
     "data": {
      "text/plain": [
       "array([[50,  1,  2],\n",
       "       [ 3,  4,  5],\n",
       "       [ 6,  7,  8]])"
      ]
     },
     "execution_count": 204,
     "metadata": {},
     "output_type": "execute_result"
    }
   ],
   "source": [
    "arr"
   ]
  },
  {
   "cell_type": "code",
   "execution_count": 205,
   "id": "7568d8b8-579b-4ee8-9c5c-2a7f24dbacf7",
   "metadata": {},
   "outputs": [],
   "source": [
    "b[0,0]= 100"
   ]
  },
  {
   "cell_type": "code",
   "execution_count": 206,
   "id": "bc83e8ce-ed7f-496d-884b-cecf103516e1",
   "metadata": {},
   "outputs": [
    {
     "data": {
      "text/plain": [
       "array([[100,   1,   2],\n",
       "       [  3,   4,   5],\n",
       "       [  6,   7,   8]])"
      ]
     },
     "execution_count": 206,
     "metadata": {},
     "output_type": "execute_result"
    }
   ],
   "source": [
    "b"
   ]
  },
  {
   "cell_type": "code",
   "execution_count": 207,
   "id": "7b838df4-4848-453e-a58b-c7b55d1d8177",
   "metadata": {},
   "outputs": [
    {
     "data": {
      "text/plain": [
       "array([[50,  1,  2],\n",
       "       [ 3,  4,  5],\n",
       "       [ 6,  7,  8]])"
      ]
     },
     "execution_count": 207,
     "metadata": {},
     "output_type": "execute_result"
    }
   ],
   "source": [
    "arr"
   ]
  },
  {
   "cell_type": "code",
   "execution_count": null,
   "id": "99747396-a16b-4346-aebb-2164257525da",
   "metadata": {},
   "outputs": [],
   "source": []
  }
 ],
 "metadata": {
  "kernelspec": {
   "display_name": "Python [conda env:base] *",
   "language": "python",
   "name": "conda-base-py"
  },
  "language_info": {
   "codemirror_mode": {
    "name": "ipython",
    "version": 3
   },
   "file_extension": ".py",
   "mimetype": "text/x-python",
   "name": "python",
   "nbconvert_exporter": "python",
   "pygments_lexer": "ipython3",
   "version": "3.13.5"
  }
 },
 "nbformat": 4,
 "nbformat_minor": 5
}
