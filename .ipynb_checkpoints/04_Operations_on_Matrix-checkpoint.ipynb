{
 "cells": [
  {
   "cell_type": "code",
   "execution_count": 2,
   "id": "436fff72-1f5c-4afe-b1a0-f2bf8de0e7e0",
   "metadata": {},
   "outputs": [],
   "source": [
    "import numpy as np"
   ]
  },
  {
   "cell_type": "code",
   "execution_count": null,
   "id": "53083cf9-8928-4bf3-857c-e5d41121a46f",
   "metadata": {},
   "outputs": [],
   "source": []
  },
  {
   "cell_type": "markdown",
   "id": "94af4a87-5cdc-4b52-9166-5b05f18cdcbf",
   "metadata": {},
   "source": [
    "### Broadcasting"
   ]
  },
  {
   "cell_type": "code",
   "execution_count": 4,
   "id": "adb19de3-a5da-48a4-b2c4-287dac3afdb7",
   "metadata": {},
   "outputs": [],
   "source": [
    "arr = np.arange(0,9)\n",
    "arr = arr.reshape(3,3)"
   ]
  },
  {
   "cell_type": "code",
   "execution_count": 5,
   "id": "b5773dd3-b3c8-4316-b15c-d43f9fbe03da",
   "metadata": {},
   "outputs": [
    {
     "data": {
      "text/plain": [
       "array([[0, 1, 2],\n",
       "       [3, 4, 5],\n",
       "       [6, 7, 8]])"
      ]
     },
     "execution_count": 5,
     "metadata": {},
     "output_type": "execute_result"
    }
   ],
   "source": [
    "arr"
   ]
  },
  {
   "cell_type": "code",
   "execution_count": 6,
   "id": "0376203c-3e1e-4786-b48a-4a95bcdaa1e6",
   "metadata": {},
   "outputs": [
    {
     "data": {
      "text/plain": [
       "array([[ 0,  3,  6],\n",
       "       [ 9, 12, 15],\n",
       "       [18, 21, 24]])"
      ]
     },
     "execution_count": 6,
     "metadata": {},
     "output_type": "execute_result"
    }
   ],
   "source": [
    "arr*3"
   ]
  },
  {
   "cell_type": "code",
   "execution_count": 7,
   "id": "20d5542a-b90e-4d7c-8fa9-ecee69d551de",
   "metadata": {},
   "outputs": [
    {
     "data": {
      "text/plain": [
       "array([[0, 1, 2],\n",
       "       [3, 4, 5],\n",
       "       [6, 7, 8]])"
      ]
     },
     "execution_count": 7,
     "metadata": {},
     "output_type": "execute_result"
    }
   ],
   "source": [
    "arr"
   ]
  },
  {
   "cell_type": "code",
   "execution_count": 11,
   "id": "e88f01cf-c7b3-45de-b60d-f4f781c87d0f",
   "metadata": {},
   "outputs": [],
   "source": [
    "a = np.array([1,2])\n",
    "b = np.array([3,4])"
   ]
  },
  {
   "cell_type": "code",
   "execution_count": 20,
   "id": "301430f8-eec7-4f70-a672-1a699cf4348c",
   "metadata": {},
   "outputs": [
    {
     "data": {
      "text/plain": [
       "(array([1, 2]), array([3, 4]))"
      ]
     },
     "execution_count": 20,
     "metadata": {},
     "output_type": "execute_result"
    }
   ],
   "source": [
    "a , b"
   ]
  },
  {
   "cell_type": "code",
   "execution_count": 14,
   "id": "bf8e37a9-5276-4948-9f0c-f18c323e3350",
   "metadata": {},
   "outputs": [
    {
     "data": {
      "text/plain": [
       "array([4, 6])"
      ]
     },
     "execution_count": 14,
     "metadata": {},
     "output_type": "execute_result"
    }
   ],
   "source": [
    "a+b"
   ]
  },
  {
   "cell_type": "code",
   "execution_count": 21,
   "id": "b37c8a27-ba9b-48e5-b90d-0956440e8360",
   "metadata": {},
   "outputs": [
    {
     "data": {
      "text/plain": [
       "(array([-2, -2]), array([2, 2]))"
      ]
     },
     "execution_count": 21,
     "metadata": {},
     "output_type": "execute_result"
    }
   ],
   "source": [
    "a-b, b-a"
   ]
  },
  {
   "cell_type": "code",
   "execution_count": 22,
   "id": "cbff94ee-8e1f-46d5-8845-0e03e91900f2",
   "metadata": {},
   "outputs": [
    {
     "data": {
      "text/plain": [
       "array([3, 8])"
      ]
     },
     "execution_count": 22,
     "metadata": {},
     "output_type": "execute_result"
    }
   ],
   "source": [
    "a*b"
   ]
  },
  {
   "cell_type": "code",
   "execution_count": 23,
   "id": "7af28937-53a6-4d8c-8143-6409173d1890",
   "metadata": {},
   "outputs": [
    {
     "data": {
      "text/plain": [
       "array([0.33333333, 0.5       ])"
      ]
     },
     "execution_count": 23,
     "metadata": {},
     "output_type": "execute_result"
    }
   ],
   "source": [
    "a/b"
   ]
  },
  {
   "cell_type": "code",
   "execution_count": 24,
   "id": "d6867793-4536-4952-a397-e45759ef1d35",
   "metadata": {},
   "outputs": [
    {
     "data": {
      "text/plain": [
       "array([0, 0])"
      ]
     },
     "execution_count": 24,
     "metadata": {},
     "output_type": "execute_result"
    }
   ],
   "source": [
    "a//b"
   ]
  },
  {
   "cell_type": "code",
   "execution_count": 25,
   "id": "15834c2c-ae89-4db3-86b8-7a3ac7ea785f",
   "metadata": {},
   "outputs": [
    {
     "data": {
      "text/plain": [
       "array([3, 2])"
      ]
     },
     "execution_count": 25,
     "metadata": {},
     "output_type": "execute_result"
    }
   ],
   "source": [
    "b//a"
   ]
  },
  {
   "cell_type": "code",
   "execution_count": 26,
   "id": "a11907de-bb0b-43b2-a24b-da0d92f1cde3",
   "metadata": {},
   "outputs": [
    {
     "data": {
      "text/plain": [
       "array([3., 2.])"
      ]
     },
     "execution_count": 26,
     "metadata": {},
     "output_type": "execute_result"
    }
   ],
   "source": [
    "b/a"
   ]
  },
  {
   "cell_type": "markdown",
   "id": "3e65e976-b773-4674-89c6-634734d1fba0",
   "metadata": {},
   "source": [
    "### DOT PRODUCT on 2 vectors"
   ]
  },
  {
   "cell_type": "code",
   "execution_count": null,
   "id": "ea4f7723-2db6-4a33-a3e7-92067fd13911",
   "metadata": {},
   "outputs": [],
   "source": []
  },
  {
   "cell_type": "code",
   "execution_count": 12,
   "id": "36a41c0a-7e59-4322-81be-9c2f685f68c2",
   "metadata": {},
   "outputs": [],
   "source": [
    "# kitni shadow ek vector ki dusrai vector per padd rahi hai vo DOT PRODUCT hota hai"
   ]
  },
  {
   "cell_type": "code",
   "execution_count": 6,
   "id": "888de8ce-830b-4576-985f-45f3e0288908",
   "metadata": {},
   "outputs": [],
   "source": [
    "a = np.array([5,-3,2])\n",
    "b= np.array([4 , 5, 3])"
   ]
  },
  {
   "cell_type": "code",
   "execution_count": 10,
   "id": "32726b5c-44f5-45d6-86b4-fcb9822d734d",
   "metadata": {},
   "outputs": [
    {
     "data": {
      "text/plain": [
       "np.int64(11)"
      ]
     },
     "execution_count": 10,
     "metadata": {},
     "output_type": "execute_result"
    }
   ],
   "source": [
    "a.dot(b)"
   ]
  },
  {
   "cell_type": "code",
   "execution_count": 11,
   "id": "a2e0ab10-fdb2-42de-a94a-42ba119ce213",
   "metadata": {},
   "outputs": [
    {
     "name": "stdout",
     "output_type": "stream",
     "text": [
      "11\n"
     ]
    }
   ],
   "source": [
    "print(a.dot(b))"
   ]
  },
  {
   "cell_type": "markdown",
   "id": "3b8e41f4-4fbc-43bd-94bf-5c697f5d0c3e",
   "metadata": {},
   "source": [
    "### CROSS PRODUCT on 2 vectors"
   ]
  },
  {
   "cell_type": "code",
   "execution_count": 16,
   "id": "358230e3-94ee-47fc-ac63-8073d18f36a7",
   "metadata": {},
   "outputs": [],
   "source": [
    "##2 vectors dai plane dai perpendicular jo vector hunda oo CROSS PRODUCT hunda(using LEFT HAND RULE to get the correct perpendicular vector)"
   ]
  },
  {
   "cell_type": "code",
   "execution_count": 17,
   "id": "f048bf31-3849-4c09-8396-1a0aa976c0d3",
   "metadata": {},
   "outputs": [],
   "source": [
    "## If A X B vector than upward vector if B X A than downward vector ( eg. door)"
   ]
  },
  {
   "cell_type": "code",
   "execution_count": 18,
   "id": "1f6da0a9-0b4f-4f84-88f4-6d3f5882b9f7",
   "metadata": {},
   "outputs": [],
   "source": [
    "## to check perpendicular vector is write or wrong do dot product of perpe. vector with a or b and then answer will be zero"
   ]
  },
  {
   "cell_type": "code",
   "execution_count": 19,
   "id": "092f6f1d-be39-4d36-9125-90d87c4931bd",
   "metadata": {},
   "outputs": [],
   "source": [
    "a= np.array([3,4,5])\n",
    "b= np.array([7,8,9])"
   ]
  },
  {
   "cell_type": "code",
   "execution_count": 23,
   "id": "1abcebb3-9089-4562-9896-90b370a10561",
   "metadata": {},
   "outputs": [],
   "source": [
    "# this is the cross product with unit vectors i,j,k\n",
    "c= np.cross(a,b)"
   ]
  },
  {
   "cell_type": "code",
   "execution_count": 25,
   "id": "988bf36a-76dc-4b0e-8724-7d1431bf8466",
   "metadata": {},
   "outputs": [
    {
     "name": "stdout",
     "output_type": "stream",
     "text": [
      "[-4  8 -4]\n"
     ]
    }
   ],
   "source": [
    "print(c)"
   ]
  },
  {
   "cell_type": "code",
   "execution_count": 28,
   "id": "9514ae74-bf4f-43fe-b308-75fbab35369d",
   "metadata": {},
   "outputs": [
    {
     "data": {
      "text/plain": [
       "np.int64(0)"
      ]
     },
     "execution_count": 28,
     "metadata": {},
     "output_type": "execute_result"
    }
   ],
   "source": [
    "# check perpendicularity\n",
    "c.dot(a)"
   ]
  },
  {
   "cell_type": "code",
   "execution_count": 27,
   "id": "0fe690ba-4d45-4d8a-b001-217151cbaf68",
   "metadata": {},
   "outputs": [
    {
     "name": "stdout",
     "output_type": "stream",
     "text": [
      "0\n"
     ]
    }
   ],
   "source": [
    "print(c.dot(b))"
   ]
  },
  {
   "cell_type": "markdown",
   "id": "69c2330a-7c08-4339-95dd-7219882ddc61",
   "metadata": {},
   "source": [
    "### Determinant"
   ]
  },
  {
   "cell_type": "code",
   "execution_count": 29,
   "id": "992eae60-dcf0-4189-80f8-d838b3418816",
   "metadata": {},
   "outputs": [],
   "source": [
    "arr = np.array([\n",
    "    [3,5,2],\n",
    "    [1,4,7],\n",
    "    [6,8,9]\n",
    "])"
   ]
  },
  {
   "cell_type": "code",
   "execution_count": 30,
   "id": "511c350d-fe5e-4e21-975d-c698c4629043",
   "metadata": {},
   "outputs": [
    {
     "data": {
      "text/plain": [
       "np.float64(72.99999999999999)"
      ]
     },
     "execution_count": 30,
     "metadata": {},
     "output_type": "execute_result"
    }
   ],
   "source": [
    "np.linalg.det(arr)"
   ]
  },
  {
   "cell_type": "code",
   "execution_count": 31,
   "id": "1fe648ef-27ac-4647-a53f-d87792d4be05",
   "metadata": {},
   "outputs": [
    {
     "name": "stdout",
     "output_type": "stream",
     "text": [
      "72.99999999999999\n"
     ]
    }
   ],
   "source": [
    "print(np.linalg.det(arr))"
   ]
  },
  {
   "cell_type": "code",
   "execution_count": 32,
   "id": "ec2de903-a7ac-4cca-897d-08818517a173",
   "metadata": {},
   "outputs": [
    {
     "data": {
      "text/plain": [
       "73"
      ]
     },
     "execution_count": 32,
     "metadata": {},
     "output_type": "execute_result"
    }
   ],
   "source": [
    "round(np.linalg.det(arr))"
   ]
  },
  {
   "cell_type": "code",
   "execution_count": 38,
   "id": "8e5228eb-4f16-4808-a46a-4d64f7375e09",
   "metadata": {},
   "outputs": [],
   "source": [
    "# if 2 rows or 2 columns are same then dete. will be zero (2 vectors in same direction or in parllel will have 0 CROSS PRODUCT)\n",
    "arr = np.array([\n",
    "    [3,5,2],\n",
    "    [6,10,4],\n",
    "    [6,8,9]\n",
    "])"
   ]
  },
  {
   "cell_type": "code",
   "execution_count": 34,
   "id": "6456774e-0ce3-4767-817f-61debb7e8719",
   "metadata": {},
   "outputs": [
    {
     "data": {
      "text/plain": [
       "np.float64(0.0)"
      ]
     },
     "execution_count": 34,
     "metadata": {},
     "output_type": "execute_result"
    }
   ],
   "source": [
    "np.linalg.det(arr)"
   ]
  },
  {
   "cell_type": "markdown",
   "id": "fa6e7fe1-896f-470e-b9c0-424755e75240",
   "metadata": {},
   "source": [
    "### Co-Factors & Minor"
   ]
  },
  {
   "cell_type": "code",
   "execution_count": 39,
   "id": "7d27a5ea-3365-408f-8177-24e56560d30a",
   "metadata": {},
   "outputs": [],
   "source": [
    "## adjoint"
   ]
  },
  {
   "cell_type": "markdown",
   "id": "28f88e64-b08d-4b25-8960-f0888fc9e7a5",
   "metadata": {},
   "source": [
    "### Inverse of a matrix"
   ]
  },
  {
   "cell_type": "code",
   "execution_count": 16,
   "id": "d1a32f57-2ba4-47b8-9305-0f1b3d583b9b",
   "metadata": {},
   "outputs": [],
   "source": [
    "## class linear algebra and function is inverse"
   ]
  },
  {
   "cell_type": "code",
   "execution_count": 5,
   "id": "216693e7-b93d-4fab-a3b7-3041b2e10c85",
   "metadata": {},
   "outputs": [],
   "source": [
    "arr = np.array([\n",
    "    [1,2,3],\n",
    "    [4,5,6],\n",
    "    [7,2,9]\n",
    "])"
   ]
  },
  {
   "cell_type": "code",
   "execution_count": 8,
   "id": "7ab4d724-7c21-4a7a-8f71-33e61205f24f",
   "metadata": {},
   "outputs": [],
   "source": [
    "inverse=np.linalg.inv(arr)"
   ]
  },
  {
   "cell_type": "code",
   "execution_count": 9,
   "id": "18d72c5a-135b-4303-8c13-032480bc02a4",
   "metadata": {},
   "outputs": [
    {
     "data": {
      "text/plain": [
       "array([[-0.91666667,  0.33333333,  0.08333333],\n",
       "       [-0.16666667,  0.33333333, -0.16666667],\n",
       "       [ 0.75      , -0.33333333,  0.08333333]])"
      ]
     },
     "execution_count": 9,
     "metadata": {},
     "output_type": "execute_result"
    }
   ],
   "source": [
    "inverse"
   ]
  },
  {
   "cell_type": "code",
   "execution_count": 10,
   "id": "2bf0bedb-a5fc-4654-b86c-a0fbd1e79715",
   "metadata": {},
   "outputs": [],
   "source": [
    "arr = np.array([\n",
    "    [1,2,3],\n",
    "    [3,-2,1],\n",
    "    [4,1,1]\n",
    "])"
   ]
  },
  {
   "cell_type": "code",
   "execution_count": 11,
   "id": "f331ea1e-b62e-4b56-bb26-1d3b5142cb46",
   "metadata": {},
   "outputs": [],
   "source": [
    "inverse=np.linalg.inv(arr)"
   ]
  },
  {
   "cell_type": "code",
   "execution_count": 12,
   "id": "89a40a1b-7c82-4b06-8583-f85ea960ceaa",
   "metadata": {},
   "outputs": [
    {
     "data": {
      "text/plain": [
       "array([[-0.09375,  0.03125,  0.25   ],\n",
       "       [ 0.03125, -0.34375,  0.25   ],\n",
       "       [ 0.34375,  0.21875, -0.25   ]])"
      ]
     },
     "execution_count": 12,
     "metadata": {},
     "output_type": "execute_result"
    }
   ],
   "source": [
    "inverse"
   ]
  },
  {
   "cell_type": "code",
   "execution_count": 15,
   "id": "4e74d690-dd5d-40d0-a9e7-b08df48dd400",
   "metadata": {},
   "outputs": [
    {
     "data": {
      "text/plain": [
       "array([[1., 0., 0.],\n",
       "       [0., 1., 0.],\n",
       "       [0., 0., 1.]])"
      ]
     },
     "execution_count": 15,
     "metadata": {},
     "output_type": "execute_result"
    }
   ],
   "source": [
    "# A X A^-1 = I (identity matrix)\n",
    "arr.dot(inverse)"
   ]
  },
  {
   "cell_type": "code",
   "execution_count": 18,
   "id": "935fe4d1-f84f-44ba-b8b7-51b88d41284c",
   "metadata": {},
   "outputs": [
    {
     "name": "stdout",
     "output_type": "stream",
     "text": [
      "32.000000000000014\n"
     ]
    }
   ],
   "source": [
    "print(np.linalg.det(arr))"
   ]
  },
  {
   "cell_type": "code",
   "execution_count": 22,
   "id": "8c2ed4bd-a53d-4270-9151-aa17ef66ae97",
   "metadata": {},
   "outputs": [],
   "source": [
    "# eye use to make identity matrix\n",
    "i = np.eye(3)"
   ]
  },
  {
   "cell_type": "code",
   "execution_count": 21,
   "id": "5e0bac92-0527-4802-8811-e1ae00bdf1a1",
   "metadata": {},
   "outputs": [
    {
     "name": "stdout",
     "output_type": "stream",
     "text": [
      "1.0\n"
     ]
    }
   ],
   "source": [
    "print(np.linalg.det(i))"
   ]
  },
  {
   "cell_type": "code",
   "execution_count": 23,
   "id": "115c4c95-c647-4dff-91ce-c6e61d38135e",
   "metadata": {},
   "outputs": [
    {
     "data": {
      "text/plain": [
       "array([[ 1.,  2.,  3.],\n",
       "       [ 3., -2.,  1.],\n",
       "       [ 4.,  1.,  1.]])"
      ]
     },
     "execution_count": 23,
     "metadata": {},
     "output_type": "execute_result"
    }
   ],
   "source": [
    "arr.dot(i)"
   ]
  },
  {
   "cell_type": "markdown",
   "id": "14a1649e-6109-40ad-a1ad-4fb6ab6df8ba",
   "metadata": {},
   "source": [
    "### Multiplication of 2 matrix"
   ]
  },
  {
   "cell_type": "code",
   "execution_count": 27,
   "id": "2aaf8b03-4dbe-4ee2-8ced-6df4e0f5a400",
   "metadata": {},
   "outputs": [],
   "source": [
    "x = np.random.randint(1,10,(3,3))"
   ]
  },
  {
   "cell_type": "code",
   "execution_count": 28,
   "id": "9f498f8b-d3e7-4af4-bcf9-4f0d581fff20",
   "metadata": {},
   "outputs": [
    {
     "data": {
      "text/plain": [
       "array([[8, 3, 5],\n",
       "       [5, 9, 8],\n",
       "       [8, 4, 4]], dtype=int32)"
      ]
     },
     "execution_count": 28,
     "metadata": {},
     "output_type": "execute_result"
    }
   ],
   "source": [
    "x"
   ]
  },
  {
   "cell_type": "code",
   "execution_count": 29,
   "id": "9d1355be-cda0-4cdd-a468-0f4f3f1d88cf",
   "metadata": {},
   "outputs": [],
   "source": [
    "y = np.random.randint(1,10,(3,3))"
   ]
  },
  {
   "cell_type": "code",
   "execution_count": 30,
   "id": "2b47a060-7013-48db-a53c-8dcec463d89d",
   "metadata": {},
   "outputs": [
    {
     "data": {
      "text/plain": [
       "array([[2, 5, 8],\n",
       "       [3, 8, 3],\n",
       "       [8, 8, 6]], dtype=int32)"
      ]
     },
     "execution_count": 30,
     "metadata": {},
     "output_type": "execute_result"
    }
   ],
   "source": [
    "y"
   ]
  },
  {
   "cell_type": "code",
   "execution_count": 31,
   "id": "6e29b46e-b1b9-4ae6-af11-2f493682060d",
   "metadata": {},
   "outputs": [
    {
     "data": {
      "text/plain": [
       "array([[ 65, 104, 103],\n",
       "       [101, 161, 115],\n",
       "       [ 60, 104, 100]], dtype=int32)"
      ]
     },
     "execution_count": 31,
     "metadata": {},
     "output_type": "execute_result"
    }
   ],
   "source": [
    "x.dot(y)"
   ]
  },
  {
   "cell_type": "markdown",
   "id": "47c3d76f-fde5-4802-843d-e5624e1df8b5",
   "metadata": {},
   "source": [
    "### Solving linear algebra"
   ]
  },
  {
   "cell_type": "code",
   "execution_count": 33,
   "id": "504f1910-7505-4c73-b3c7-7c65735cbf04",
   "metadata": {},
   "outputs": [],
   "source": [
    "arr = np.array([\n",
    "    [1,3,-2],\n",
    "    [2,-1,6],\n",
    "    [1,1,-2]\n",
    "])"
   ]
  },
  {
   "cell_type": "code",
   "execution_count": 38,
   "id": "e103d49f-16e5-4ae9-8f1a-e5ef8d05109d",
   "metadata": {},
   "outputs": [],
   "source": [
    "c = np.array([10,3,5])"
   ]
  },
  {
   "cell_type": "code",
   "execution_count": 40,
   "id": "1a6e5560-34b8-469c-9b92-ec6617a17a41",
   "metadata": {},
   "outputs": [],
   "source": [
    "inv = np.linalg.inv(arr)"
   ]
  },
  {
   "cell_type": "code",
   "execution_count": 41,
   "id": "915ecec3-93ba-4121-9c35-f96931f9b293",
   "metadata": {},
   "outputs": [
    {
     "data": {
      "text/plain": [
       "array([[-2.00000000e-01,  2.00000000e-01,  8.00000000e-01],\n",
       "       [ 5.00000000e-01, -1.18952467e-17, -5.00000000e-01],\n",
       "       [ 1.50000000e-01,  1.00000000e-01, -3.50000000e-01]])"
      ]
     },
     "execution_count": 41,
     "metadata": {},
     "output_type": "execute_result"
    }
   ],
   "source": [
    "inv"
   ]
  },
  {
   "cell_type": "code",
   "execution_count": 43,
   "id": "f0850349-deae-4353-b553-b860d0b60cfb",
   "metadata": {},
   "outputs": [
    {
     "data": {
      "text/plain": [
       "array([2.6 , 2.5 , 0.05])"
      ]
     },
     "execution_count": 43,
     "metadata": {},
     "output_type": "execute_result"
    }
   ],
   "source": [
    "inv.dot(c)"
   ]
  },
  {
   "cell_type": "markdown",
   "id": "6f83e5df-2ca4-4dd4-aa4e-e6fbb05e93ff",
   "metadata": {},
   "source": [
    "### Eign values and Eign vectors"
   ]
  },
  {
   "cell_type": "code",
   "execution_count": 45,
   "id": "725f6d22-7ccb-4b88-970e-f9d73c2d496b",
   "metadata": {},
   "outputs": [],
   "source": [
    "## matrix A x eign vector = lambda x eign vector"
   ]
  },
  {
   "cell_type": "code",
   "execution_count": 46,
   "id": "f426744d-0d6e-4886-9bc4-bdba1cffbc80",
   "metadata": {},
   "outputs": [],
   "source": [
    "## eign value and vector depends on size(angle) and direction"
   ]
  },
  {
   "cell_type": "code",
   "execution_count": 47,
   "id": "a269fa31-38d0-4e7b-a843-1bfa09ad5ae6",
   "metadata": {},
   "outputs": [
    {
     "data": {
      "text/plain": [
       "array([[ 1,  3, -2],\n",
       "       [ 2, -1,  6],\n",
       "       [ 1,  1, -2]])"
      ]
     },
     "execution_count": 47,
     "metadata": {},
     "output_type": "execute_result"
    }
   ],
   "source": [
    "arr"
   ]
  },
  {
   "cell_type": "code",
   "execution_count": 48,
   "id": "12105515-ae55-4657-9d48-51ae7b914032",
   "metadata": {},
   "outputs": [
    {
     "data": {
      "text/plain": [
       "array([ 3.25878567, -1.74822811, -3.51055757])"
      ]
     },
     "execution_count": 48,
     "metadata": {},
     "output_type": "execute_result"
    }
   ],
   "source": [
    "np.linalg.eigvals(arr)"
   ]
  },
  {
   "cell_type": "code",
   "execution_count": 53,
   "id": "bda8aa5c-4bee-4514-99ed-3a44b044bc89",
   "metadata": {},
   "outputs": [
    {
     "data": {
      "text/plain": [
       "EigResult(eigenvalues=array([ 3.25878567, -1.74822811, -3.51055757]), eigenvectors=array([[-0.68032035, -0.68273056,  0.58984922],\n",
       "       [-0.685363  ,  0.71750056, -0.79590801],\n",
       "       [-0.25969557,  0.13810117,  0.13641241]]))"
      ]
     },
     "execution_count": 53,
     "metadata": {},
     "output_type": "execute_result"
    }
   ],
   "source": [
    "np.linalg.eig(arr)"
   ]
  },
  {
   "cell_type": "code",
   "execution_count": 50,
   "id": "d4a671c4-a1ca-4404-98f9-73abdd089829",
   "metadata": {},
   "outputs": [],
   "source": [
    "a,b =np.linalg.eig(arr)"
   ]
  },
  {
   "cell_type": "code",
   "execution_count": 54,
   "id": "f3bcb1c4-647e-465b-bcc5-9919777c1dd4",
   "metadata": {},
   "outputs": [
    {
     "data": {
      "text/plain": [
       "array([ 3.25878567, -1.74822811, -3.51055757])"
      ]
     },
     "execution_count": 54,
     "metadata": {},
     "output_type": "execute_result"
    }
   ],
   "source": [
    "# eign values\n",
    "a"
   ]
  },
  {
   "cell_type": "code",
   "execution_count": 55,
   "id": "abb92d9e-9c64-4123-b541-ed05cfe236be",
   "metadata": {},
   "outputs": [
    {
     "data": {
      "text/plain": [
       "array([[-0.68032035, -0.68273056,  0.58984922],\n",
       "       [-0.685363  ,  0.71750056, -0.79590801],\n",
       "       [-0.25969557,  0.13810117,  0.13641241]])"
      ]
     },
     "execution_count": 55,
     "metadata": {},
     "output_type": "execute_result"
    }
   ],
   "source": [
    "## eign vectors\n",
    "b"
   ]
  },
  {
   "cell_type": "markdown",
   "id": "069caaaa-eb92-4f50-a372-c8fbf9213918",
   "metadata": {},
   "source": [
    "### Basic operations"
   ]
  },
  {
   "cell_type": "code",
   "execution_count": 56,
   "id": "d3953771-d8f1-464f-8734-73d2f5388ad0",
   "metadata": {},
   "outputs": [
    {
     "data": {
      "text/plain": [
       "array([[ 1,  3, -2],\n",
       "       [ 2, -1,  6],\n",
       "       [ 1,  1, -2]])"
      ]
     },
     "execution_count": 56,
     "metadata": {},
     "output_type": "execute_result"
    }
   ],
   "source": [
    "arr"
   ]
  },
  {
   "cell_type": "code",
   "execution_count": 57,
   "id": "abb80d7f-bbbe-4c5b-bce2-9940c1e09c27",
   "metadata": {},
   "outputs": [
    {
     "data": {
      "text/plain": [
       "np.int64(9)"
      ]
     },
     "execution_count": 57,
     "metadata": {},
     "output_type": "execute_result"
    }
   ],
   "source": [
    "np.sum(arr)"
   ]
  },
  {
   "cell_type": "code",
   "execution_count": 58,
   "id": "1f7f4d5c-26c1-4bc2-9d62-aa6202a00d05",
   "metadata": {},
   "outputs": [
    {
     "data": {
      "text/plain": [
       "np.float64(1.0)"
      ]
     },
     "execution_count": 58,
     "metadata": {},
     "output_type": "execute_result"
    }
   ],
   "source": [
    "np.mean(arr)"
   ]
  },
  {
   "cell_type": "code",
   "execution_count": 59,
   "id": "755dd808-235a-44db-a911-d2f8d648fccc",
   "metadata": {},
   "outputs": [
    {
     "data": {
      "text/plain": [
       "np.float64(1.0)"
      ]
     },
     "execution_count": 59,
     "metadata": {},
     "output_type": "execute_result"
    }
   ],
   "source": [
    "np.median(arr)"
   ]
  },
  {
   "cell_type": "code",
   "execution_count": 61,
   "id": "c9b8d010-dffb-4a65-9b37-ae2833c82abe",
   "metadata": {},
   "outputs": [
    {
     "data": {
      "text/plain": [
       "np.int64(-2)"
      ]
     },
     "execution_count": 61,
     "metadata": {},
     "output_type": "execute_result"
    }
   ],
   "source": [
    "np.min(arr)"
   ]
  },
  {
   "cell_type": "code",
   "execution_count": 62,
   "id": "c6d02151-6576-4209-beef-00478403d8d3",
   "metadata": {},
   "outputs": [
    {
     "data": {
      "text/plain": [
       "np.int64(6)"
      ]
     },
     "execution_count": 62,
     "metadata": {},
     "output_type": "execute_result"
    }
   ],
   "source": [
    "np.max(arr)"
   ]
  },
  {
   "cell_type": "code",
   "execution_count": 65,
   "id": "74604ed0-e39f-46f0-909f-46df0a3e8322",
   "metadata": {},
   "outputs": [
    {
     "data": {
      "text/plain": [
       "np.int64(2)"
      ]
     },
     "execution_count": 65,
     "metadata": {},
     "output_type": "execute_result"
    }
   ],
   "source": [
    "# arg shows the position of the element \n",
    "np.argmin(arr)"
   ]
  },
  {
   "cell_type": "code",
   "execution_count": 64,
   "id": "359ed340-e078-49b7-9b18-487c933c1afd",
   "metadata": {},
   "outputs": [
    {
     "data": {
      "text/plain": [
       "np.int64(5)"
      ]
     },
     "execution_count": 64,
     "metadata": {},
     "output_type": "execute_result"
    }
   ],
   "source": [
    "np.argmax(arr)"
   ]
  },
  {
   "cell_type": "code",
   "execution_count": null,
   "id": "ab3c06a8-b259-40ed-bc4a-07274bb3dada",
   "metadata": {},
   "outputs": [],
   "source": []
  },
  {
   "cell_type": "code",
   "execution_count": null,
   "id": "a45c2a35-367a-4496-a017-d5b5d6a6e940",
   "metadata": {},
   "outputs": [],
   "source": []
  }
 ],
 "metadata": {
  "kernelspec": {
   "display_name": "Python [conda env:base] *",
   "language": "python",
   "name": "conda-base-py"
  },
  "language_info": {
   "codemirror_mode": {
    "name": "ipython",
    "version": 3
   },
   "file_extension": ".py",
   "mimetype": "text/x-python",
   "name": "python",
   "nbconvert_exporter": "python",
   "pygments_lexer": "ipython3",
   "version": "3.13.5"
  }
 },
 "nbformat": 4,
 "nbformat_minor": 5
}
