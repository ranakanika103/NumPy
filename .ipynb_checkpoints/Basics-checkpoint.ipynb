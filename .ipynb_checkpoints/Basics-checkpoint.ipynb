{
 "cells": [
  {
   "cell_type": "markdown",
   "id": "ab8c8981-50a0-4a55-aede-dd70966507ef",
   "metadata": {},
   "source": [
    "### install numpy"
   ]
  },
  {
   "cell_type": "code",
   "execution_count": 1,
   "id": "fd2e0996-134e-4884-b235-116f24487f4d",
   "metadata": {},
   "outputs": [
    {
     "name": "stdout",
     "output_type": "stream",
     "text": [
      "Requirement already satisfied: numpy in c:\\users\\ranak\\anaconda3\\lib\\site-packages (2.1.3)\n",
      "Note: you may need to restart the kernel to use updated packages.\n"
     ]
    }
   ],
   "source": [
    "pip install numpy"
   ]
  },
  {
   "cell_type": "markdown",
   "id": "543ae606-df00-4d22-8abd-1550a4bf4f9a",
   "metadata": {},
   "source": [
    "### import numpy"
   ]
  },
  {
   "cell_type": "code",
   "execution_count": 7,
   "id": "65c941d8-d67c-4c3b-8fc3-82ce89f33e42",
   "metadata": {},
   "outputs": [],
   "source": [
    "import numpy as np"
   ]
  },
  {
   "cell_type": "code",
   "execution_count": 1,
   "id": "f40e5cb4-6a19-418c-840a-fc9070ebcd10",
   "metadata": {},
   "outputs": [],
   "source": [
    "## np is alies and you can also use other's variable rather than np "
   ]
  },
  {
   "cell_type": "code",
   "execution_count": 51,
   "id": "783a3362-a777-401c-b0f5-f6b471ecc3f0",
   "metadata": {},
   "outputs": [],
   "source": [
    "# dtype, size, dimensions, shape (these four are the important things)"
   ]
  },
  {
   "cell_type": "code",
   "execution_count": 28,
   "id": "e2b9a4c7-99cb-4cb4-bc4f-fd7c3d8e6370",
   "metadata": {},
   "outputs": [],
   "source": [
    "numList = [5,1,3]"
   ]
  },
  {
   "cell_type": "code",
   "execution_count": 4,
   "id": "e06447c5-e7ff-4cbb-8a96-a137a6c65276",
   "metadata": {},
   "outputs": [],
   "source": [
    "floatList = [5.3,1.1,3.4]"
   ]
  },
  {
   "cell_type": "code",
   "execution_count": 5,
   "id": "442ba3ec-64a5-4c68-8c02-2efdc72f237d",
   "metadata": {},
   "outputs": [],
   "source": [
    "textList = ['kanika','adi','teena']"
   ]
  },
  {
   "cell_type": "code",
   "execution_count": 36,
   "id": "168bafee-b833-4511-b12e-f9157b3c1209",
   "metadata": {},
   "outputs": [],
   "source": [
    "boolList = [True, False, True]"
   ]
  },
  {
   "cell_type": "code",
   "execution_count": 29,
   "id": "a5bd27b9-f9b9-4909-a6d0-6bd6566b7fb7",
   "metadata": {},
   "outputs": [],
   "source": [
    "numArr= np.array(numList)"
   ]
  },
  {
   "cell_type": "code",
   "execution_count": 30,
   "id": "5686e15c-b27b-4446-a89f-e52b0801ec23",
   "metadata": {},
   "outputs": [
    {
     "name": "stdout",
     "output_type": "stream",
     "text": [
      "[5 1 3]\n"
     ]
    }
   ],
   "source": [
    "print(numArr)"
   ]
  },
  {
   "cell_type": "code",
   "execution_count": 31,
   "id": "28983e85-d9c5-47aa-9fbb-ad87e286b573",
   "metadata": {},
   "outputs": [
    {
     "data": {
      "text/plain": [
       "array([5, 1, 3])"
      ]
     },
     "execution_count": 31,
     "metadata": {},
     "output_type": "execute_result"
    }
   ],
   "source": [
    "np.array(numList)"
   ]
  },
  {
   "cell_type": "code",
   "execution_count": 32,
   "id": "5c9b65d9-f202-4ae7-9068-d6074c6d513f",
   "metadata": {},
   "outputs": [
    {
     "data": {
      "text/plain": [
       "dtype('int64')"
      ]
     },
     "execution_count": 32,
     "metadata": {},
     "output_type": "execute_result"
    }
   ],
   "source": [
    "numArr.dtype\n",
    "# 64 are bytes and you have to try that bites are same of all items"
   ]
  },
  {
   "cell_type": "code",
   "execution_count": 33,
   "id": "1eb0acf3-2786-4190-9d0f-f8895ecd8a6a",
   "metadata": {},
   "outputs": [],
   "source": [
    "floatArr= np.array(floatList)"
   ]
  },
  {
   "cell_type": "code",
   "execution_count": 26,
   "id": "1e213eba-9ed3-4d46-aaaa-78af9f21b17b",
   "metadata": {},
   "outputs": [
    {
     "name": "stdout",
     "output_type": "stream",
     "text": [
      "[5.3 1.1 3.4]\n"
     ]
    }
   ],
   "source": [
    "print(floatArr)"
   ]
  },
  {
   "cell_type": "code",
   "execution_count": 27,
   "id": "92b750a8-95f0-491d-bd3e-71c85d10b75c",
   "metadata": {},
   "outputs": [
    {
     "data": {
      "text/plain": [
       "dtype('float64')"
      ]
     },
     "execution_count": 27,
     "metadata": {},
     "output_type": "execute_result"
    }
   ],
   "source": [
    "floatArr.dtype"
   ]
  },
  {
   "cell_type": "code",
   "execution_count": 13,
   "id": "22e43ae5-98d3-4af7-9b67-6986124784ae",
   "metadata": {},
   "outputs": [],
   "source": [
    "textArr= np.array(textList)"
   ]
  },
  {
   "cell_type": "code",
   "execution_count": 14,
   "id": "a0cc2234-1c7d-4361-9a1c-6801de841e86",
   "metadata": {},
   "outputs": [
    {
     "name": "stdout",
     "output_type": "stream",
     "text": [
      "['kanika', 'adi', 'teena']\n"
     ]
    }
   ],
   "source": [
    "print(textList)"
   ]
  },
  {
   "cell_type": "code",
   "execution_count": 18,
   "id": "3fe0648d-baa6-4e59-9057-210ee2398cc3",
   "metadata": {},
   "outputs": [
    {
     "data": {
      "text/plain": [
       "array(['kanika', 'adi', 'teena'], dtype='<U6')"
      ]
     },
     "execution_count": 18,
     "metadata": {},
     "output_type": "execute_result"
    }
   ],
   "source": [
    "textArr"
   ]
  },
  {
   "cell_type": "code",
   "execution_count": 37,
   "id": "da516d52-e3c1-4db9-9e75-b672ec1c53fe",
   "metadata": {},
   "outputs": [],
   "source": [
    "boolArr = np.array(boolList)"
   ]
  },
  {
   "cell_type": "code",
   "execution_count": 38,
   "id": "befac18a-ffea-4a85-8e9f-d1de83e7ce57",
   "metadata": {},
   "outputs": [
    {
     "name": "stdout",
     "output_type": "stream",
     "text": [
      "[ True False  True]\n"
     ]
    }
   ],
   "source": [
    "print(boolArr)"
   ]
  },
  {
   "cell_type": "code",
   "execution_count": 39,
   "id": "676cdf02-508e-450e-85c4-f1f0abf25160",
   "metadata": {},
   "outputs": [
    {
     "data": {
      "text/plain": [
       "dtype('bool')"
      ]
     },
     "execution_count": 39,
     "metadata": {},
     "output_type": "execute_result"
    }
   ],
   "source": [
    "boolArr.dtype"
   ]
  },
  {
   "cell_type": "code",
   "execution_count": 40,
   "id": "229080d1-5054-4b40-86b4-a85d871ae821",
   "metadata": {},
   "outputs": [
    {
     "data": {
      "text/plain": [
       "array(['5', '6.3', 'True', 'kanika'], dtype='<U32')"
      ]
     },
     "execution_count": 40,
     "metadata": {},
     "output_type": "execute_result"
    }
   ],
   "source": [
    "np.array([5,6.3,True,\"kanika\"])"
   ]
  },
  {
   "cell_type": "code",
   "execution_count": 43,
   "id": "8f30e5c8-4f09-449a-b68d-d0cf42412916",
   "metadata": {},
   "outputs": [],
   "source": [
    "arr = np.array([8,6,2,5,4,3,1,47,5,60,2])"
   ]
  },
  {
   "cell_type": "code",
   "execution_count": 44,
   "id": "c3a89320-c989-4898-ada1-3348109dae8b",
   "metadata": {},
   "outputs": [
    {
     "data": {
      "text/plain": [
       "array([ 8,  6,  2,  5,  4,  3,  1, 47,  5, 60,  2])"
      ]
     },
     "execution_count": 44,
     "metadata": {},
     "output_type": "execute_result"
    }
   ],
   "source": [
    "arr"
   ]
  },
  {
   "cell_type": "code",
   "execution_count": 45,
   "id": "869823b6-ea60-4ec1-a88e-5c2e6eb192b6",
   "metadata": {},
   "outputs": [
    {
     "name": "stdout",
     "output_type": "stream",
     "text": [
      "[ 8  6  2  5  4  3  1 47  5 60  2]\n"
     ]
    }
   ],
   "source": [
    "print(arr)"
   ]
  },
  {
   "cell_type": "code",
   "execution_count": 46,
   "id": "07f6181d-2b26-4c75-8adb-f4876b7a5341",
   "metadata": {},
   "outputs": [
    {
     "data": {
      "text/plain": [
       "(11,)"
      ]
     },
     "execution_count": 46,
     "metadata": {},
     "output_type": "execute_result"
    }
   ],
   "source": [
    "arr.shape"
   ]
  },
  {
   "cell_type": "code",
   "execution_count": 48,
   "id": "bd507d39-bbbb-4e03-9fad-ce36bc5bb475",
   "metadata": {},
   "outputs": [
    {
     "data": {
      "text/plain": [
       "1"
      ]
     },
     "execution_count": 48,
     "metadata": {},
     "output_type": "execute_result"
    }
   ],
   "source": [
    "# number of dimensions (how many brackets you have in starting)\n",
    "arr.ndim"
   ]
  },
  {
   "cell_type": "code",
   "execution_count": 50,
   "id": "085ce3dc-2a20-4746-ac1b-41fdcf564bab",
   "metadata": {},
   "outputs": [
    {
     "data": {
      "text/plain": [
       "11"
      ]
     },
     "execution_count": 50,
     "metadata": {},
     "output_type": "execute_result"
    }
   ],
   "source": [
    "# total number of elements\n",
    "arr.size"
   ]
  },
  {
   "cell_type": "markdown",
   "id": "731151f3-feb0-4c49-95a3-0a4bd8f537d0",
   "metadata": {},
   "source": [
    "### Scaler"
   ]
  },
  {
   "cell_type": "code",
   "execution_count": 62,
   "id": "fe3174c1-f249-4176-942e-decc0b731fbb",
   "metadata": {},
   "outputs": [],
   "source": [
    "### scalera have no dimensiions"
   ]
  },
  {
   "cell_type": "code",
   "execution_count": 52,
   "id": "5a526498-44bc-473f-85f4-7527faea2b4b",
   "metadata": {},
   "outputs": [],
   "source": [
    "scaler = np.array(5)"
   ]
  },
  {
   "cell_type": "code",
   "execution_count": 53,
   "id": "ed62c901-b761-4e6e-9e25-2c9a960dbd90",
   "metadata": {},
   "outputs": [
    {
     "data": {
      "text/plain": [
       "array(5)"
      ]
     },
     "execution_count": 53,
     "metadata": {},
     "output_type": "execute_result"
    }
   ],
   "source": [
    "scaler"
   ]
  },
  {
   "cell_type": "code",
   "execution_count": 54,
   "id": "e407c410-3d06-4a29-a867-ff91f1509f45",
   "metadata": {},
   "outputs": [
    {
     "name": "stdout",
     "output_type": "stream",
     "text": [
      "5\n"
     ]
    }
   ],
   "source": [
    "print(scaler)"
   ]
  },
  {
   "cell_type": "code",
   "execution_count": 55,
   "id": "8c556593-6d0a-4e27-90e9-36c019259346",
   "metadata": {},
   "outputs": [
    {
     "data": {
      "text/plain": [
       "dtype('int64')"
      ]
     },
     "execution_count": 55,
     "metadata": {},
     "output_type": "execute_result"
    }
   ],
   "source": [
    "scaler.dtype"
   ]
  },
  {
   "cell_type": "code",
   "execution_count": 58,
   "id": "72bf7d1e-7773-4220-944f-0ccda4cd274d",
   "metadata": {},
   "outputs": [
    {
     "data": {
      "text/plain": [
       "()"
      ]
     },
     "execution_count": 58,
     "metadata": {},
     "output_type": "execute_result"
    }
   ],
   "source": [
    "# scaler values have no length and breadth\n",
    "scaler.shape"
   ]
  },
  {
   "cell_type": "code",
   "execution_count": 57,
   "id": "200a490c-1488-454f-b12d-a51bfdb29175",
   "metadata": {},
   "outputs": [
    {
     "data": {
      "text/plain": [
       "1"
      ]
     },
     "execution_count": 57,
     "metadata": {},
     "output_type": "execute_result"
    }
   ],
   "source": [
    "scaler.size"
   ]
  },
  {
   "cell_type": "code",
   "execution_count": 59,
   "id": "20f7dcd2-8a28-4e34-8442-c5d6d45302bc",
   "metadata": {},
   "outputs": [
    {
     "data": {
      "text/plain": [
       "0"
      ]
     },
     "execution_count": 59,
     "metadata": {},
     "output_type": "execute_result"
    }
   ],
   "source": [
    "scaler.ndim"
   ]
  },
  {
   "cell_type": "code",
   "execution_count": 61,
   "id": "82e0aac7-3dde-4f67-9692-3d6be86c5eee",
   "metadata": {},
   "outputs": [
    {
     "data": {
      "text/plain": [
       "numpy.ndarray"
      ]
     },
     "execution_count": 61,
     "metadata": {},
     "output_type": "execute_result"
    }
   ],
   "source": [
    "type(scaler)"
   ]
  },
  {
   "cell_type": "markdown",
   "id": "c33e6720-2df4-4e7b-8b66-764c811410f6",
   "metadata": {},
   "source": [
    "### Vector"
   ]
  },
  {
   "cell_type": "code",
   "execution_count": 65,
   "id": "299f8ecb-a49e-4113-91e8-63303e57c39e",
   "metadata": {},
   "outputs": [],
   "source": [
    "### vectors having one dimeansion"
   ]
  },
  {
   "cell_type": "code",
   "execution_count": 68,
   "id": "4e389c25-6cb8-454a-b8dd-a043ea6129a8",
   "metadata": {},
   "outputs": [],
   "source": [
    "vector = np.array([4,5,3,7])"
   ]
  },
  {
   "cell_type": "code",
   "execution_count": 69,
   "id": "fa8e455e-2535-4fa4-8b2d-e949690aa0b4",
   "metadata": {},
   "outputs": [
    {
     "name": "stdout",
     "output_type": "stream",
     "text": [
      "[4 5 3 7]\n"
     ]
    }
   ],
   "source": [
    "print(vector)"
   ]
  },
  {
   "cell_type": "code",
   "execution_count": 70,
   "id": "9ae2f21d-a33b-41e5-a1a4-823fe45a590e",
   "metadata": {},
   "outputs": [
    {
     "data": {
      "text/plain": [
       "4"
      ]
     },
     "execution_count": 70,
     "metadata": {},
     "output_type": "execute_result"
    }
   ],
   "source": [
    "vector.size"
   ]
  },
  {
   "cell_type": "code",
   "execution_count": 71,
   "id": "ec91e8d8-5acf-4fa5-9f13-13903565ae8d",
   "metadata": {},
   "outputs": [
    {
     "data": {
      "text/plain": [
       "1"
      ]
     },
     "execution_count": 71,
     "metadata": {},
     "output_type": "execute_result"
    }
   ],
   "source": [
    "vector.ndim"
   ]
  },
  {
   "cell_type": "code",
   "execution_count": 72,
   "id": "24fb9ad9-4403-4327-829c-d7ac12644589",
   "metadata": {},
   "outputs": [
    {
     "data": {
      "text/plain": [
       "(4,)"
      ]
     },
     "execution_count": 72,
     "metadata": {},
     "output_type": "execute_result"
    }
   ],
   "source": [
    "vector.shape"
   ]
  },
  {
   "cell_type": "markdown",
   "id": "5e7918d2-e15e-4862-bcee-eda1a03acee9",
   "metadata": {},
   "source": [
    "### Matrix"
   ]
  },
  {
   "cell_type": "code",
   "execution_count": 76,
   "id": "27f07eff-b979-4d5f-af14-36547ba70169",
   "metadata": {},
   "outputs": [],
   "source": [
    "### matrix have two dimension"
   ]
  },
  {
   "cell_type": "code",
   "execution_count": 73,
   "id": "d12c1d1a-4e6b-4195-98be-3f3aacf36cbe",
   "metadata": {},
   "outputs": [],
   "source": [
    "matrix = np.array(\n",
    "    [\n",
    "        [1,2,3],\n",
    "        [4,5,6],\n",
    "        [7,8,9]\n",
    "    ]\n",
    ")"
   ]
  },
  {
   "cell_type": "code",
   "execution_count": 74,
   "id": "74981d06-0eea-4170-bfa8-e9e7093e67b4",
   "metadata": {},
   "outputs": [
    {
     "data": {
      "text/plain": [
       "array([[1, 2, 3],\n",
       "       [4, 5, 6],\n",
       "       [7, 8, 9]])"
      ]
     },
     "execution_count": 74,
     "metadata": {},
     "output_type": "execute_result"
    }
   ],
   "source": [
    "matrix"
   ]
  },
  {
   "cell_type": "code",
   "execution_count": 75,
   "id": "99a28702-41ab-4fe9-8499-3977fcd05421",
   "metadata": {},
   "outputs": [
    {
     "name": "stdout",
     "output_type": "stream",
     "text": [
      "[[1 2 3]\n",
      " [4 5 6]\n",
      " [7 8 9]]\n"
     ]
    }
   ],
   "source": [
    "print(matrix)"
   ]
  },
  {
   "cell_type": "code",
   "execution_count": 77,
   "id": "2ae9a78c-48df-4e3b-b060-453302935241",
   "metadata": {},
   "outputs": [
    {
     "data": {
      "text/plain": [
       "2"
      ]
     },
     "execution_count": 77,
     "metadata": {},
     "output_type": "execute_result"
    }
   ],
   "source": [
    "matrix.ndim"
   ]
  },
  {
   "cell_type": "code",
   "execution_count": 79,
   "id": "b1ac4a2e-7525-4992-bb34-72d669c4cd03",
   "metadata": {},
   "outputs": [
    {
     "data": {
      "text/plain": [
       "9"
      ]
     },
     "execution_count": 79,
     "metadata": {},
     "output_type": "execute_result"
    }
   ],
   "source": [
    "# number of elements in matrix\n",
    "matrix.size"
   ]
  },
  {
   "cell_type": "code",
   "execution_count": 80,
   "id": "bb5be45e-e3b9-4a0e-ab18-fcc4cb03aee8",
   "metadata": {},
   "outputs": [
    {
     "data": {
      "text/plain": [
       "(3, 3)"
      ]
     },
     "execution_count": 80,
     "metadata": {},
     "output_type": "execute_result"
    }
   ],
   "source": [
    "matrix.shape"
   ]
  },
  {
   "cell_type": "code",
   "execution_count": 81,
   "id": "c077f36c-080f-4d1d-a063-b4fc68368d58",
   "metadata": {},
   "outputs": [],
   "source": [
    "matrix = np.array(\n",
    "    [\n",
    "        [1,2,3,4],\n",
    "        [5,6,7,8],\n",
    "        [9,10,11,12]\n",
    "    ]\n",
    ")"
   ]
  },
  {
   "cell_type": "code",
   "execution_count": 83,
   "id": "98696099-0027-4d5c-874e-2689367d6df5",
   "metadata": {},
   "outputs": [
    {
     "data": {
      "text/plain": [
       "12"
      ]
     },
     "execution_count": 83,
     "metadata": {},
     "output_type": "execute_result"
    }
   ],
   "source": [
    "matrix.size"
   ]
  },
  {
   "cell_type": "code",
   "execution_count": 84,
   "id": "ec9e5998-81bf-4202-b75b-d729104de059",
   "metadata": {},
   "outputs": [
    {
     "data": {
      "text/plain": [
       "(3, 4)"
      ]
     },
     "execution_count": 84,
     "metadata": {},
     "output_type": "execute_result"
    }
   ],
   "source": [
    "matrix.shape"
   ]
  },
  {
   "cell_type": "markdown",
   "id": "401f2518-169f-4f9a-a943-0a35e49137b6",
   "metadata": {},
   "source": [
    "### Tensor"
   ]
  },
  {
   "cell_type": "code",
   "execution_count": 86,
   "id": "62ae17b7-5af9-492b-94a7-20d5ba385a8f",
   "metadata": {},
   "outputs": [],
   "source": [
    "### when we combine some scalers it make vectors and on combination of vectors it makes matrix and then from matrix it make tensorflow"
   ]
  },
  {
   "cell_type": "code",
   "execution_count": 25,
   "id": "74e6d81c-4374-47fa-accd-0e23b7f29312",
   "metadata": {},
   "outputs": [],
   "source": [
    "tensor = np.array([\n",
    "    [\n",
    "        [1,2],\n",
    "        [3,4]\n",
    "    ],\n",
    "    [\n",
    "        [5,6],\n",
    "        [7,8]\n",
    "    ]\n",
    "])"
   ]
  },
  {
   "cell_type": "code",
   "execution_count": 88,
   "id": "df383da8-bfb2-4cda-b8c2-d80307cc711f",
   "metadata": {},
   "outputs": [
    {
     "data": {
      "text/plain": [
       "array([[[1, 2],\n",
       "        [3, 4]],\n",
       "\n",
       "       [[5, 6],\n",
       "        [7, 8]]])"
      ]
     },
     "execution_count": 88,
     "metadata": {},
     "output_type": "execute_result"
    }
   ],
   "source": [
    "tensor"
   ]
  },
  {
   "cell_type": "code",
   "execution_count": 89,
   "id": "878fff20-2cec-4100-a2bb-4f0cf1ca77f2",
   "metadata": {},
   "outputs": [
    {
     "name": "stdout",
     "output_type": "stream",
     "text": [
      "[[[1 2]\n",
      "  [3 4]]\n",
      "\n",
      " [[5 6]\n",
      "  [7 8]]]\n"
     ]
    }
   ],
   "source": [
    "print(tensor)"
   ]
  },
  {
   "cell_type": "code",
   "execution_count": 90,
   "id": "92656067-5395-4d48-b05c-f5f36e5ed8c9",
   "metadata": {},
   "outputs": [
    {
     "data": {
      "text/plain": [
       "3"
      ]
     },
     "execution_count": 90,
     "metadata": {},
     "output_type": "execute_result"
    }
   ],
   "source": [
    "tensor.ndim"
   ]
  },
  {
   "cell_type": "code",
   "execution_count": 91,
   "id": "975576d5-5ce7-4115-b31a-5f61670fb638",
   "metadata": {},
   "outputs": [
    {
     "data": {
      "text/plain": [
       "(2, 2, 2)"
      ]
     },
     "execution_count": 91,
     "metadata": {},
     "output_type": "execute_result"
    }
   ],
   "source": [
    "tensor.shape"
   ]
  },
  {
   "cell_type": "code",
   "execution_count": 92,
   "id": "14cea8b5-3518-44e2-a65f-0800d5fb1c08",
   "metadata": {},
   "outputs": [
    {
     "data": {
      "text/plain": [
       "8"
      ]
     },
     "execution_count": 92,
     "metadata": {},
     "output_type": "execute_result"
    }
   ],
   "source": [
    "tensor.size"
   ]
  },
  {
   "cell_type": "code",
   "execution_count": 94,
   "id": "38db77fd-b780-449b-be3c-41af36daf8ab",
   "metadata": {},
   "outputs": [],
   "source": [
    "tensor = np.array([\n",
    "    [\n",
    "        [1,2],\n",
    "        [3,4]\n",
    "    ],\n",
    "    [\n",
    "        [5,6],\n",
    "        [7,8]\n",
    "    ],\n",
    "    [\n",
    "        [9,10],\n",
    "        [11,12]\n",
    "    ]\n",
    "])"
   ]
  },
  {
   "cell_type": "code",
   "execution_count": 95,
   "id": "5121d02d-481c-4c7d-b7d6-0c88e5fcec23",
   "metadata": {},
   "outputs": [
    {
     "name": "stdout",
     "output_type": "stream",
     "text": [
      "[[[ 1  2]\n",
      "  [ 3  4]]\n",
      "\n",
      " [[ 5  6]\n",
      "  [ 7  8]]\n",
      "\n",
      " [[ 9 10]\n",
      "  [11 12]]]\n"
     ]
    }
   ],
   "source": [
    "print(tensor)"
   ]
  },
  {
   "cell_type": "code",
   "execution_count": 97,
   "id": "8814b731-d2a5-484e-8d4b-dbf2ba97ce53",
   "metadata": {},
   "outputs": [
    {
     "data": {
      "text/plain": [
       "(3, 2, 2)"
      ]
     },
     "execution_count": 97,
     "metadata": {},
     "output_type": "execute_result"
    }
   ],
   "source": [
    "tensor.shape"
   ]
  },
  {
   "cell_type": "code",
   "execution_count": 98,
   "id": "22b6ca80-909e-4bac-8ffd-4e898e630e4d",
   "metadata": {},
   "outputs": [
    {
     "data": {
      "text/plain": [
       "12"
      ]
     },
     "execution_count": 98,
     "metadata": {},
     "output_type": "execute_result"
    }
   ],
   "source": [
    "tensor.size"
   ]
  },
  {
   "cell_type": "code",
   "execution_count": 30,
   "id": "084f06b3-3b66-4d39-8604-782ab02252fa",
   "metadata": {},
   "outputs": [],
   "source": [
    "tensor = np.array([\n",
    "    [\n",
    "        [1,2,3],\n",
    "        [3,4,5]\n",
    "    ],\n",
    "    [\n",
    "        [5,6,7],\n",
    "        [7,8,9]\n",
    "    ]\n",
    "])"
   ]
  },
  {
   "cell_type": "code",
   "execution_count": 31,
   "id": "3113333e-3144-4a33-9c4b-9458e9dbd092",
   "metadata": {},
   "outputs": [
    {
     "name": "stdout",
     "output_type": "stream",
     "text": [
      "[[[1 2 3]\n",
      "  [3 4 5]]\n",
      "\n",
      " [[5 6 7]\n",
      "  [7 8 9]]]\n"
     ]
    }
   ],
   "source": [
    "print(tensor)"
   ]
  },
  {
   "cell_type": "code",
   "execution_count": 33,
   "id": "5f7467e5-6c5d-4aa3-9a9f-d77ecd5dab15",
   "metadata": {},
   "outputs": [
    {
     "data": {
      "text/plain": [
       "(2, 2, 3)"
      ]
     },
     "execution_count": 33,
     "metadata": {},
     "output_type": "execute_result"
    }
   ],
   "source": [
    "tensor.shape"
   ]
  },
  {
   "cell_type": "code",
   "execution_count": null,
   "id": "4088aac9-d044-4252-bb99-5ae81aaa2c37",
   "metadata": {},
   "outputs": [],
   "source": [
    "4,2,2"
   ]
  },
  {
   "cell_type": "code",
   "execution_count": 39,
   "id": "ffbd4cd0-b533-4977-a28e-3295d8dfd389",
   "metadata": {},
   "outputs": [],
   "source": [
    "tensor = np.array([\n",
    "    [\n",
    "        [1,2],\n",
    "        [3,4]\n",
    "       \n",
    "    ],\n",
    "    [\n",
    "        [5,6],\n",
    "        [7,8]\n",
    "\n",
    "    ],\n",
    "    [\n",
    "       [7,8],\n",
    "       [9,8]\n",
    "    ],\n",
    "    [\n",
    "        [8,9],\n",
    "        [7,8]\n",
    "    ]\n",
    "])"
   ]
  },
  {
   "cell_type": "code",
   "execution_count": 40,
   "id": "864604ec-b97a-4b1d-a045-9a3fc86b60d0",
   "metadata": {},
   "outputs": [
    {
     "name": "stdout",
     "output_type": "stream",
     "text": [
      "[[[1 2]\n",
      "  [3 4]]\n",
      "\n",
      " [[5 6]\n",
      "  [7 8]]\n",
      "\n",
      " [[7 8]\n",
      "  [9 8]]\n",
      "\n",
      " [[8 9]\n",
      "  [7 8]]]\n"
     ]
    }
   ],
   "source": [
    "print(tensor)"
   ]
  },
  {
   "cell_type": "code",
   "execution_count": 41,
   "id": "493e6c22-61e8-4c43-9bd7-9c3bb84f2a0f",
   "metadata": {},
   "outputs": [
    {
     "data": {
      "text/plain": [
       "(4, 2, 2)"
      ]
     },
     "execution_count": 41,
     "metadata": {},
     "output_type": "execute_result"
    }
   ],
   "source": [
    "tensor.shape"
   ]
  },
  {
   "cell_type": "code",
   "execution_count": null,
   "id": "4fed5c88-9b77-4d97-9062-ca992de63c68",
   "metadata": {},
   "outputs": [],
   "source": [
    "# 4,1,3"
   ]
  },
  {
   "cell_type": "code",
   "execution_count": 42,
   "id": "d5988ec7-ca59-438f-8175-a2d02b508c19",
   "metadata": {},
   "outputs": [],
   "source": [
    "tensor = np.array([\n",
    "    [\n",
    "        [1,2,8]\n",
    "        \n",
    "       \n",
    "    ],\n",
    "    [\n",
    "        [5,6,7]\n",
    "        \n",
    "\n",
    "    ],\n",
    "    [\n",
    "       [7,8,7]\n",
    "       \n",
    "    ],\n",
    "    [\n",
    "        [8,9,7]\n",
    "        \n",
    "    ]\n",
    "])"
   ]
  },
  {
   "cell_type": "code",
   "execution_count": 44,
   "id": "961a5800-e90a-45ec-ac09-aba0c70e7a01",
   "metadata": {},
   "outputs": [
    {
     "data": {
      "text/plain": [
       "(4, 1, 3)"
      ]
     },
     "execution_count": 44,
     "metadata": {},
     "output_type": "execute_result"
    }
   ],
   "source": [
    "tensor.shape"
   ]
  },
  {
   "cell_type": "code",
   "execution_count": 46,
   "id": "0a664a4a-11d7-4bde-a197-9f2a9757bc35",
   "metadata": {},
   "outputs": [
    {
     "name": "stdout",
     "output_type": "stream",
     "text": [
      "[[[1 2 8]]\n",
      "\n",
      " [[5 6 7]]\n",
      "\n",
      " [[7 8 7]]\n",
      "\n",
      " [[8 9 7]]]\n"
     ]
    }
   ],
   "source": [
    "print(tensor)"
   ]
  },
  {
   "cell_type": "code",
   "execution_count": null,
   "id": "96bb1765-f1f3-492c-8ce6-078f708360d9",
   "metadata": {},
   "outputs": [],
   "source": []
  },
  {
   "cell_type": "code",
   "execution_count": null,
   "id": "a544d3a2-9579-4f23-9b28-ca4bed55e644",
   "metadata": {},
   "outputs": [],
   "source": []
  },
  {
   "cell_type": "code",
   "execution_count": 45,
   "id": "47cf9ee7-a6d1-4cf2-a0a5-902b14c8df03",
   "metadata": {},
   "outputs": [],
   "source": [
    "### number of layers/blocks and then rows and then columns"
   ]
  },
  {
   "cell_type": "markdown",
   "id": "cb374ec7-4e01-4a89-bd1f-7cdfe9dfde64",
   "metadata": {},
   "source": [
    "### Reshape"
   ]
  },
  {
   "cell_type": "code",
   "execution_count": 99,
   "id": "c9cba691-c842-41b9-acfe-09cf8e13992d",
   "metadata": {},
   "outputs": [],
   "source": [
    "### important topic"
   ]
  },
  {
   "cell_type": "code",
   "execution_count": 26,
   "id": "4d258ea2-440f-4331-a3dd-3b6678587548",
   "metadata": {},
   "outputs": [],
   "source": [
    "arr = np.array([1,2,3,4,5,6,7,8,9,10,11,12]) "
   ]
  },
  {
   "cell_type": "code",
   "execution_count": 101,
   "id": "e9bea8d2-7714-4f61-835d-7c9a0fcab81e",
   "metadata": {},
   "outputs": [
    {
     "data": {
      "text/plain": [
       "dtype('int64')"
      ]
     },
     "execution_count": 101,
     "metadata": {},
     "output_type": "execute_result"
    }
   ],
   "source": [
    "arr.dtype"
   ]
  },
  {
   "cell_type": "code",
   "execution_count": 102,
   "id": "36672663-7bdd-461e-b70f-42ddb03b7495",
   "metadata": {},
   "outputs": [
    {
     "data": {
      "text/plain": [
       "(12,)"
      ]
     },
     "execution_count": 102,
     "metadata": {},
     "output_type": "execute_result"
    }
   ],
   "source": [
    "arr.shape"
   ]
  },
  {
   "cell_type": "code",
   "execution_count": 103,
   "id": "f7a98436-ec31-4754-85be-41d388086c0e",
   "metadata": {},
   "outputs": [
    {
     "data": {
      "text/plain": [
       "12"
      ]
     },
     "execution_count": 103,
     "metadata": {},
     "output_type": "execute_result"
    }
   ],
   "source": [
    "arr.size"
   ]
  },
  {
   "cell_type": "code",
   "execution_count": 104,
   "id": "b38c2fe5-cb26-45c4-acc7-a58ef75f60dd",
   "metadata": {},
   "outputs": [
    {
     "data": {
      "text/plain": [
       "1"
      ]
     },
     "execution_count": 104,
     "metadata": {},
     "output_type": "execute_result"
    }
   ],
   "source": [
    "arr.ndim"
   ]
  },
  {
   "cell_type": "code",
   "execution_count": 115,
   "id": "3644bb69-df6f-4c6d-9194-33ffe7bc1905",
   "metadata": {},
   "outputs": [],
   "source": [
    "### doing this code with example 12 factors"
   ]
  },
  {
   "cell_type": "code",
   "execution_count": 106,
   "id": "0f050cde-6d7b-431c-af2e-fee368aa159f",
   "metadata": {},
   "outputs": [
    {
     "data": {
      "text/plain": [
       "array([ 1,  2,  3,  4,  5,  6,  7,  8,  9, 10, 11, 12])"
      ]
     },
     "execution_count": 106,
     "metadata": {},
     "output_type": "execute_result"
    }
   ],
   "source": [
    "arr.reshape(12)"
   ]
  },
  {
   "cell_type": "code",
   "execution_count": 110,
   "id": "e02f21b3-bb77-4c36-8398-0a09c4686220",
   "metadata": {},
   "outputs": [
    {
     "data": {
      "text/plain": [
       "array([[ 1,  2,  3,  4,  5,  6,  7,  8,  9, 10, 11, 12]])"
      ]
     },
     "execution_count": 110,
     "metadata": {},
     "output_type": "execute_result"
    }
   ],
   "source": [
    "# 1 element having 12 items\n",
    "arr.reshape(1,12)"
   ]
  },
  {
   "cell_type": "code",
   "execution_count": 109,
   "id": "f7bae091-b9d5-448d-ba60-17810f3ab86f",
   "metadata": {},
   "outputs": [
    {
     "data": {
      "text/plain": [
       "array([[ 1],\n",
       "       [ 2],\n",
       "       [ 3],\n",
       "       [ 4],\n",
       "       [ 5],\n",
       "       [ 6],\n",
       "       [ 7],\n",
       "       [ 8],\n",
       "       [ 9],\n",
       "       [10],\n",
       "       [11],\n",
       "       [12]])"
      ]
     },
     "execution_count": 109,
     "metadata": {},
     "output_type": "execute_result"
    }
   ],
   "source": [
    "# 12 elements having 1 item\n",
    "arr.reshape(12,1)"
   ]
  },
  {
   "cell_type": "code",
   "execution_count": 112,
   "id": "3b3fcec9-f664-4b8c-9382-f96c895c380f",
   "metadata": {},
   "outputs": [
    {
     "data": {
      "text/plain": [
       "array([[ 1,  2,  3,  4,  5,  6],\n",
       "       [ 7,  8,  9, 10, 11, 12]])"
      ]
     },
     "execution_count": 112,
     "metadata": {},
     "output_type": "execute_result"
    }
   ],
   "source": [
    "# 2 rows 6 columns\n",
    "arr.reshape(2,6)"
   ]
  },
  {
   "cell_type": "code",
   "execution_count": 113,
   "id": "d30f178b-a6e4-499a-9e94-f904691291e7",
   "metadata": {},
   "outputs": [
    {
     "data": {
      "text/plain": [
       "array([[[ 1,  2],\n",
       "        [ 3,  4],\n",
       "        [ 5,  6]],\n",
       "\n",
       "       [[ 7,  8],\n",
       "        [ 9, 10],\n",
       "        [11, 12]]])"
      ]
     },
     "execution_count": 113,
     "metadata": {},
     "output_type": "execute_result"
    }
   ],
   "source": [
    "arr.reshape(2,3,2)"
   ]
  },
  {
   "cell_type": "code",
   "execution_count": 114,
   "id": "9f7a317e-e5b5-40b2-a012-88aa0a2b3ebb",
   "metadata": {},
   "outputs": [
    {
     "data": {
      "text/plain": [
       "array([[ 1,  2,  3,  4],\n",
       "       [ 5,  6,  7,  8],\n",
       "       [ 9, 10, 11, 12]])"
      ]
     },
     "execution_count": 114,
     "metadata": {},
     "output_type": "execute_result"
    }
   ],
   "source": [
    "arr.reshape(3,4)"
   ]
  },
  {
   "cell_type": "code",
   "execution_count": 126,
   "id": "b7b8ff58-d299-4f84-9f5d-772fc12b68b5",
   "metadata": {},
   "outputs": [
    {
     "data": {
      "text/plain": [
       "array([[ 1,  2,  3],\n",
       "       [ 4,  5,  6],\n",
       "       [ 7,  8,  9],\n",
       "       [10, 11, 12]])"
      ]
     },
     "execution_count": 126,
     "metadata": {},
     "output_type": "execute_result"
    }
   ],
   "source": [
    "arr.reshape(4,3)"
   ]
  },
  {
   "cell_type": "code",
   "execution_count": 116,
   "id": "77170076-bdf3-44de-9faf-5c5988839b38",
   "metadata": {},
   "outputs": [],
   "source": [
    "### doing with 24 factors"
   ]
  },
  {
   "cell_type": "code",
   "execution_count": 128,
   "id": "1b2745a3-beac-42a8-ac6a-d24062326bfe",
   "metadata": {},
   "outputs": [],
   "source": [
    "arr= np.array([x for x in range(1,25)])"
   ]
  },
  {
   "cell_type": "code",
   "execution_count": 129,
   "id": "e9fb079a-f96b-416a-9f31-20dfd27f21c7",
   "metadata": {},
   "outputs": [
    {
     "data": {
      "text/plain": [
       "array([ 1,  2,  3,  4,  5,  6,  7,  8,  9, 10, 11, 12, 13, 14, 15, 16, 17,\n",
       "       18, 19, 20, 21, 22, 23, 24])"
      ]
     },
     "execution_count": 129,
     "metadata": {},
     "output_type": "execute_result"
    }
   ],
   "source": [
    "arr"
   ]
  },
  {
   "cell_type": "code",
   "execution_count": 136,
   "id": "14ee3f08-b081-4134-a605-3601a8989df5",
   "metadata": {},
   "outputs": [
    {
     "data": {
      "text/plain": [
       "array([[ 1,  2,  3,  4,  5,  6],\n",
       "       [ 7,  8,  9, 10, 11, 12],\n",
       "       [13, 14, 15, 16, 17, 18],\n",
       "       [19, 20, 21, 22, 23, 24]])"
      ]
     },
     "execution_count": 136,
     "metadata": {},
     "output_type": "execute_result"
    }
   ],
   "source": [
    "# -1 apnai ap baki di shape set kar dinda array di \n",
    "arr.reshape(4,-1)"
   ]
  },
  {
   "cell_type": "code",
   "execution_count": 139,
   "id": "71e9b8ec-0507-413f-8ebc-b27bb1a7c10c",
   "metadata": {},
   "outputs": [
    {
     "data": {
      "text/plain": [
       "array([[[ 1,  2,  3,  4],\n",
       "        [ 5,  6,  7,  8],\n",
       "        [ 9, 10, 11, 12]],\n",
       "\n",
       "       [[13, 14, 15, 16],\n",
       "        [17, 18, 19, 20],\n",
       "        [21, 22, 23, 24]]])"
      ]
     },
     "execution_count": 139,
     "metadata": {},
     "output_type": "execute_result"
    }
   ],
   "source": [
    "arr.reshape(2,3,-1)"
   ]
  },
  {
   "cell_type": "code",
   "execution_count": 140,
   "id": "8870bfb4-a2a6-4587-9ae8-f9bff886b1c3",
   "metadata": {},
   "outputs": [
    {
     "data": {
      "text/plain": [
       "array([[[[ 1,  2],\n",
       "         [ 3,  4],\n",
       "         [ 5,  6]],\n",
       "\n",
       "        [[ 7,  8],\n",
       "         [ 9, 10],\n",
       "         [11, 12]]],\n",
       "\n",
       "\n",
       "       [[[13, 14],\n",
       "         [15, 16],\n",
       "         [17, 18]],\n",
       "\n",
       "        [[19, 20],\n",
       "         [21, 22],\n",
       "         [23, 24]]]])"
      ]
     },
     "execution_count": 140,
     "metadata": {},
     "output_type": "execute_result"
    }
   ],
   "source": [
    "arr.reshape(2,2,3,2)"
   ]
  },
  {
   "cell_type": "code",
   "execution_count": 131,
   "id": "8c5d617d-18c5-43b4-b0be-8a23a6d5829c",
   "metadata": {},
   "outputs": [
    {
     "data": {
      "text/plain": [
       "array([[ 1,  2,  3,  4],\n",
       "       [ 5,  6,  7,  8],\n",
       "       [ 9, 10, 11, 12],\n",
       "       [13, 14, 15, 16],\n",
       "       [17, 18, 19, 20],\n",
       "       [21, 22, 23, 24]])"
      ]
     },
     "execution_count": 131,
     "metadata": {},
     "output_type": "execute_result"
    }
   ],
   "source": [
    "arr.reshape(6,4)"
   ]
  },
  {
   "cell_type": "code",
   "execution_count": 132,
   "id": "4a17478f-bbda-4f76-83e4-063bf1e231fa",
   "metadata": {},
   "outputs": [
    {
     "data": {
      "text/plain": [
       "array([[ 1,  2,  3],\n",
       "       [ 4,  5,  6],\n",
       "       [ 7,  8,  9],\n",
       "       [10, 11, 12],\n",
       "       [13, 14, 15],\n",
       "       [16, 17, 18],\n",
       "       [19, 20, 21],\n",
       "       [22, 23, 24]])"
      ]
     },
     "execution_count": 132,
     "metadata": {},
     "output_type": "execute_result"
    }
   ],
   "source": [
    "arr.reshape(8,3)"
   ]
  },
  {
   "cell_type": "code",
   "execution_count": 133,
   "id": "1797a74e-1669-43df-8ff2-de20435fe927",
   "metadata": {},
   "outputs": [
    {
     "data": {
      "text/plain": [
       "array([[ 1,  2,  3,  4,  5,  6,  7,  8],\n",
       "       [ 9, 10, 11, 12, 13, 14, 15, 16],\n",
       "       [17, 18, 19, 20, 21, 22, 23, 24]])"
      ]
     },
     "execution_count": 133,
     "metadata": {},
     "output_type": "execute_result"
    }
   ],
   "source": [
    "arr.reshape(3,8)"
   ]
  },
  {
   "cell_type": "code",
   "execution_count": 134,
   "id": "fec0d194-8864-43a5-9ff2-f7b8b3c14976",
   "metadata": {},
   "outputs": [
    {
     "data": {
      "text/plain": [
       "array([[ 1,  2],\n",
       "       [ 3,  4],\n",
       "       [ 5,  6],\n",
       "       [ 7,  8],\n",
       "       [ 9, 10],\n",
       "       [11, 12],\n",
       "       [13, 14],\n",
       "       [15, 16],\n",
       "       [17, 18],\n",
       "       [19, 20],\n",
       "       [21, 22],\n",
       "       [23, 24]])"
      ]
     },
     "execution_count": 134,
     "metadata": {},
     "output_type": "execute_result"
    }
   ],
   "source": [
    "arr.reshape(12,2)"
   ]
  },
  {
   "cell_type": "code",
   "execution_count": 135,
   "id": "8a6b75f4-0e38-4e8d-b6ba-c0776c631bf4",
   "metadata": {},
   "outputs": [
    {
     "data": {
      "text/plain": [
       "array([[ 1,  2,  3,  4,  5,  6,  7,  8,  9, 10, 11, 12],\n",
       "       [13, 14, 15, 16, 17, 18, 19, 20, 21, 22, 23, 24]])"
      ]
     },
     "execution_count": 135,
     "metadata": {},
     "output_type": "execute_result"
    }
   ],
   "source": [
    "arr.reshape(2,12)"
   ]
  },
  {
   "cell_type": "code",
   "execution_count": 27,
   "id": "60deb38c-af79-40c5-83dd-755389cc87de",
   "metadata": {},
   "outputs": [],
   "source": [
    "## new worl"
   ]
  },
  {
   "cell_type": "code",
   "execution_count": 11,
   "id": "a72f7213-4a52-4a1d-bef2-bb5532dbbec1",
   "metadata": {},
   "outputs": [],
   "source": [
    "numList = [[[5,1,3]]]"
   ]
  },
  {
   "cell_type": "code",
   "execution_count": 12,
   "id": "36315b32-ad0d-4c38-9d0b-f045cfec75b9",
   "metadata": {},
   "outputs": [],
   "source": [
    "numArr= np.array(numList)"
   ]
  },
  {
   "cell_type": "code",
   "execution_count": 13,
   "id": "3c27e37a-8904-4f4f-90fe-79f4f39426e1",
   "metadata": {},
   "outputs": [
    {
     "data": {
      "text/plain": [
       "3"
      ]
     },
     "execution_count": 13,
     "metadata": {},
     "output_type": "execute_result"
    }
   ],
   "source": [
    "numArr.ndim"
   ]
  },
  {
   "cell_type": "code",
   "execution_count": 19,
   "id": "446988dc-a20d-4d8b-9f17-c58fe0a39adb",
   "metadata": {},
   "outputs": [],
   "source": [
    "numList2 = ([[5,1,3],[1,2,3],[4,5,6]])"
   ]
  },
  {
   "cell_type": "code",
   "execution_count": 20,
   "id": "f9d50f1b-4d18-4898-a985-acd69e058184",
   "metadata": {},
   "outputs": [],
   "source": [
    "numArr2= np.array(numList2)"
   ]
  },
  {
   "cell_type": "code",
   "execution_count": null,
   "id": "f0085f19-b3cd-4c82-830c-95b6584f59be",
   "metadata": {},
   "outputs": [],
   "source": []
  },
  {
   "cell_type": "code",
   "execution_count": 21,
   "id": "00704c5b-0156-46a0-af7c-2e5094ad7282",
   "metadata": {},
   "outputs": [
    {
     "data": {
      "text/plain": [
       "2"
      ]
     },
     "execution_count": 21,
     "metadata": {},
     "output_type": "execute_result"
    }
   ],
   "source": [
    "numArr2.ndim"
   ]
  },
  {
   "cell_type": "code",
   "execution_count": 22,
   "id": "eb19a228-caa2-47d2-86a5-cfe613d4a232",
   "metadata": {},
   "outputs": [
    {
     "data": {
      "text/plain": [
       "(3, 3)"
      ]
     },
     "execution_count": 22,
     "metadata": {},
     "output_type": "execute_result"
    }
   ],
   "source": [
    "numArr2.shape"
   ]
  },
  {
   "cell_type": "code",
   "execution_count": 23,
   "id": "88cbfc91-c806-40ba-b171-a7ed51902a0a",
   "metadata": {},
   "outputs": [
    {
     "data": {
      "text/plain": [
       "9"
      ]
     },
     "execution_count": 23,
     "metadata": {},
     "output_type": "execute_result"
    }
   ],
   "source": [
    "numArr2.size"
   ]
  },
  {
   "cell_type": "code",
   "execution_count": null,
   "id": "7f94d029-0cb2-401f-909d-e4f46a15662c",
   "metadata": {},
   "outputs": [],
   "source": []
  }
 ],
 "metadata": {
  "kernelspec": {
   "display_name": "Python [conda env:base] *",
   "language": "python",
   "name": "conda-base-py"
  },
  "language_info": {
   "codemirror_mode": {
    "name": "ipython",
    "version": 3
   },
   "file_extension": ".py",
   "mimetype": "text/x-python",
   "name": "python",
   "nbconvert_exporter": "python",
   "pygments_lexer": "ipython3",
   "version": "3.13.5"
  }
 },
 "nbformat": 4,
 "nbformat_minor": 5
}
