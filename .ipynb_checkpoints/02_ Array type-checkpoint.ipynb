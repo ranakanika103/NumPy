{
 "cells": [
  {
   "cell_type": "code",
   "execution_count": 3,
   "id": "db367430-7c0e-4070-ba48-5b21bc30f8dc",
   "metadata": {},
   "outputs": [],
   "source": [
    "import numpy as np"
   ]
  },
  {
   "cell_type": "code",
   "execution_count": null,
   "id": "e493fbaa-9c89-4687-b314-fc79657b15bb",
   "metadata": {},
   "outputs": [],
   "source": []
  },
  {
   "cell_type": "code",
   "execution_count": 2,
   "id": "b05d36d9-96f7-4667-b5a3-f6bd1d2ddddd",
   "metadata": {},
   "outputs": [],
   "source": [
    "arr= np.array(range(25))"
   ]
  },
  {
   "cell_type": "code",
   "execution_count": 5,
   "id": "ed86e263-d585-4955-bca1-f27d4b01d678",
   "metadata": {},
   "outputs": [
    {
     "name": "stdout",
     "output_type": "stream",
     "text": [
      "[[ 0  1  2  3  4]\n",
      " [ 5  6  7  8  9]\n",
      " [10 11 12 13 14]\n",
      " [15 16 17 18 19]\n",
      " [20 21 22 23 24]]\n"
     ]
    }
   ],
   "source": [
    "print(arr.reshape(5,5))"
   ]
  },
  {
   "cell_type": "code",
   "execution_count": 12,
   "id": "73c94144-5f67-431e-88eb-debea69e4068",
   "metadata": {},
   "outputs": [
    {
     "data": {
      "text/plain": [
       "1"
      ]
     },
     "execution_count": 12,
     "metadata": {},
     "output_type": "execute_result"
    }
   ],
   "source": [
    "arr.ndim"
   ]
  },
  {
   "cell_type": "code",
   "execution_count": 6,
   "id": "1b83747c-ee41-487f-b06c-5fb22458c2db",
   "metadata": {},
   "outputs": [],
   "source": [
    "arr = np.array(range(24))"
   ]
  },
  {
   "cell_type": "code",
   "execution_count": 10,
   "id": "0cee677b-48f4-498d-812c-911f103db4fd",
   "metadata": {},
   "outputs": [
    {
     "data": {
      "text/plain": [
       "array([[[ 0,  1,  2,  3],\n",
       "        [ 4,  5,  6,  7],\n",
       "        [ 8,  9, 10, 11]],\n",
       "\n",
       "       [[12, 13, 14, 15],\n",
       "        [16, 17, 18, 19],\n",
       "        [20, 21, 22, 23]]])"
      ]
     },
     "execution_count": 10,
     "metadata": {},
     "output_type": "execute_result"
    }
   ],
   "source": [
    "arr.reshape(2,3,4)"
   ]
  },
  {
   "cell_type": "code",
   "execution_count": 11,
   "id": "163f7fe2-75df-4192-b7a6-6e4833743ffb",
   "metadata": {},
   "outputs": [
    {
     "data": {
      "text/plain": [
       "3"
      ]
     },
     "execution_count": 11,
     "metadata": {},
     "output_type": "execute_result"
    }
   ],
   "source": [
    "arr.reshape(2,3,4).ndim"
   ]
  },
  {
   "cell_type": "markdown",
   "id": "18c9de40-5e6a-4518-ab4f-f077ae6b893a",
   "metadata": {},
   "source": [
    "### Arange generates an array with numbers in a range "
   ]
  },
  {
   "cell_type": "code",
   "execution_count": 18,
   "id": "1088da36-a168-47e1-b0e6-302549b87771",
   "metadata": {},
   "outputs": [
    {
     "data": {
      "text/plain": [
       "array([ 0,  1,  2,  3,  4,  5,  6,  7,  8,  9, 10, 11, 12, 13, 14, 15, 16,\n",
       "       17, 18, 19, 20, 21, 22, 23])"
      ]
     },
     "execution_count": 18,
     "metadata": {},
     "output_type": "execute_result"
    }
   ],
   "source": [
    "# same as range function to create an aarray\n",
    "np.arange(24)"
   ]
  },
  {
   "cell_type": "code",
   "execution_count": 24,
   "id": "e2063fe9-6511-4630-af50-45d78edeea53",
   "metadata": {},
   "outputs": [],
   "source": [
    "# to flat an array you van also use -1 \n",
    "arr = np.arange(24)"
   ]
  },
  {
   "cell_type": "code",
   "execution_count": 21,
   "id": "4b9e5389-ec6f-483e-b44b-1519efd20639",
   "metadata": {},
   "outputs": [
    {
     "data": {
      "text/plain": [
       "array([ 0,  1,  2,  3,  4,  5,  6,  7,  8,  9, 10, 11, 12, 13, 14, 15, 16,\n",
       "       17, 18, 19, 20, 21, 22, 23])"
      ]
     },
     "execution_count": 21,
     "metadata": {},
     "output_type": "execute_result"
    }
   ],
   "source": [
    "arr.reshape(-1)"
   ]
  },
  {
   "cell_type": "markdown",
   "id": "ad396f18-4475-46a0-9c80-14e71e0680f9",
   "metadata": {},
   "source": []
  },
  {
   "cell_type": "markdown",
   "id": "b9c59968-a0c9-41e7-9dd0-8b723886b5b9",
   "metadata": {},
   "source": [
    "### Genrates numbers linearly spaced from starting index including index"
   ]
  },
  {
   "cell_type": "code",
   "execution_count": 26,
   "id": "7f3690b9-678e-45eb-b26e-57afd02360ca",
   "metadata": {},
   "outputs": [
    {
     "data": {
      "text/plain": [
       "array([ 1.,  2.,  3.,  4.,  5.,  6.,  7.,  8.,  9., 10.])"
      ]
     },
     "execution_count": 26,
     "metadata": {},
     "output_type": "execute_result"
    }
   ],
   "source": [
    "# 1 sai lai kar 10 tak\n",
    "np.linspace(1,10,10)"
   ]
  },
  {
   "cell_type": "code",
   "execution_count": 30,
   "id": "809ddbc5-e914-4ca5-b34b-4e62001fa181",
   "metadata": {},
   "outputs": [
    {
     "data": {
      "text/plain": [
       "array([ 1.  ,  3.25,  5.5 ,  7.75, 10.  ])"
      ]
     },
     "execution_count": 30,
     "metadata": {},
     "output_type": "execute_result"
    }
   ],
   "source": [
    "# linear space( difference and space between two items starting from 1 and ending at 10)\n",
    "np.linspace(1,10,5)"
   ]
  },
  {
   "cell_type": "code",
   "execution_count": 31,
   "id": "e76e6dbc-35c5-48de-8d12-4b7a9d2a4cd3",
   "metadata": {},
   "outputs": [],
   "source": [
    "## 0 sai 10 kai beech 5 ata hai and then 0,2.5,5,7.5,10\n",
    "### but 1 sai 10 tak becch mai 5.5 ata hai and then 1 , 3.25 , 5.5 , 7.75 , 10."
   ]
  },
  {
   "cell_type": "markdown",
   "id": "63c9ac22-f02c-4057-b5b8-d3fc5dee6ae2",
   "metadata": {},
   "source": [
    "### Random function"
   ]
  },
  {
   "cell_type": "markdown",
   "id": "83cf5918-6bbb-4623-b55b-54ea35680fcc",
   "metadata": {},
   "source": [
    "#### genrates random numbers from uniform distribution between 0 to 1"
   ]
  },
  {
   "cell_type": "code",
   "execution_count": 38,
   "id": "3605d741-4941-4257-b2ea-ee725bddf96e",
   "metadata": {},
   "outputs": [
    {
     "data": {
      "text/plain": [
       "array([0.35176764, 0.6729879 , 0.04449311, 0.46057966, 0.39335236])"
      ]
     },
     "execution_count": 38,
     "metadata": {},
     "output_type": "execute_result"
    }
   ],
   "source": [
    "# 5 random items\n",
    "np.random.rand(5)"
   ]
  },
  {
   "cell_type": "code",
   "execution_count": 39,
   "id": "ee437678-7fc1-490f-8d0f-7f58011cedc5",
   "metadata": {},
   "outputs": [
    {
     "data": {
      "text/plain": [
       "array([[0.41086494, 0.05447705, 0.74594021],\n",
       "       [0.49121883, 0.58568421, 0.4600553 ],\n",
       "       [0.48268066, 0.01395113, 0.15263969],\n",
       "       [0.13680185, 0.81063449, 0.80078688],\n",
       "       [0.23115148, 0.50063045, 0.29009161]])"
      ]
     },
     "execution_count": 39,
     "metadata": {},
     "output_type": "execute_result"
    }
   ],
   "source": [
    "# 5 rows and 3 columns random items\n",
    "np.random.rand(5,3)"
   ]
  },
  {
   "cell_type": "markdown",
   "id": "daa5b81a-9ad3-4137-95f0-e0a58f3de505",
   "metadata": {},
   "source": [
    "#### normal distribution "
   ]
  },
  {
   "cell_type": "markdown",
   "id": "df64343f-2957-415b-9866-aa0899564a15",
   "metadata": {},
   "source": [
    "#### generates array random numbers from normal distribution with center as 0 "
   ]
  },
  {
   "cell_type": "code",
   "execution_count": 40,
   "id": "fc48a78a-8018-40de-b495-b3a53a17bc00",
   "metadata": {},
   "outputs": [],
   "source": [
    "#### normal distribution like a peak graph usually we used in physics probability of comming a number is high \n",
    "#### where the peak is high and at corners there is less chances  (more chances to come at center)"
   ]
  },
  {
   "cell_type": "code",
   "execution_count": 41,
   "id": "b678c830-3d84-497a-9e9d-d1d01c4a26cf",
   "metadata": {},
   "outputs": [
    {
     "data": {
      "text/plain": [
       "array([ 1.02352251, -1.56102952,  1.01863766,  0.73859229, -0.47999642])"
      ]
     },
     "execution_count": 41,
     "metadata": {},
     "output_type": "execute_result"
    }
   ],
   "source": [
    "np.random.randn(5)"
   ]
  },
  {
   "cell_type": "code",
   "execution_count": 42,
   "id": "c4fcecd5-bb43-4182-be5a-79960b53235a",
   "metadata": {},
   "outputs": [
    {
     "data": {
      "text/plain": [
       "array([[ 1.78321833, -1.49556141,  1.14817171,  0.13575652,  0.58279582],\n",
       "       [ 0.3860831 , -2.289619  , -0.1476618 , -1.36320035, -1.33423533],\n",
       "       [ 0.71448964, -0.10364161,  0.42771342, -0.83289962,  0.10229091],\n",
       "       [-1.65193506, -0.81443243, -1.07904491,  0.10870868,  1.12427755],\n",
       "       [-1.4325893 ,  1.0333284 , -1.0262157 ,  0.05244479,  0.16831693]])"
      ]
     },
     "execution_count": 42,
     "metadata": {},
     "output_type": "execute_result"
    }
   ],
   "source": [
    "np.random.randn(5,5)"
   ]
  },
  {
   "cell_type": "code",
   "execution_count": null,
   "id": "76e9d875-0a1e-4a71-a964-e8d03ec1545f",
   "metadata": {},
   "outputs": [],
   "source": []
  },
  {
   "cell_type": "markdown",
   "id": "d42f097b-eaa8-412a-afce-ac045ccb1781",
   "metadata": {},
   "source": [
    "#### Randint = generates array of random numbers between starting and ending"
   ]
  },
  {
   "cell_type": "markdown",
   "id": "e0a7e4cc-d9e4-4a2c-b80a-0edb541116db",
   "metadata": {},
   "source": [
    "#### Flatten"
   ]
  },
  {
   "cell_type": "code",
   "execution_count": 4,
   "id": "085d4a43-e18c-4bd9-99ee-b50e4eae8a99",
   "metadata": {},
   "outputs": [
    {
     "data": {
      "text/plain": [
       "0"
      ]
     },
     "execution_count": 4,
     "metadata": {},
     "output_type": "execute_result"
    }
   ],
   "source": [
    "np.random.randint(0,2)"
   ]
  },
  {
   "cell_type": "code",
   "execution_count": 5,
   "id": "c90457d1-7f7a-4913-99cb-9b79a8c6982c",
   "metadata": {},
   "outputs": [],
   "source": [
    "## in this you can also add which type of array you want to create like(3,6) \n",
    "arr = np.random.randint(0,100,(3,6))"
   ]
  },
  {
   "cell_type": "code",
   "execution_count": 6,
   "id": "ae74e6e7-f557-4ac5-a0f2-45b128aa9137",
   "metadata": {},
   "outputs": [
    {
     "data": {
      "text/plain": [
       "array([74, 48, 47, 16, 71, 55, 69, 24, 40, 99, 20,  7, 32, 47, 98, 85, 20,\n",
       "       23], dtype=int32)"
      ]
     },
     "execution_count": 6,
     "metadata": {},
     "output_type": "execute_result"
    }
   ],
   "source": [
    "arr.reshape(-1)"
   ]
  },
  {
   "cell_type": "code",
   "execution_count": 7,
   "id": "46ad08f6-7dda-4de4-b0dd-0166a2bc9d79",
   "metadata": {},
   "outputs": [
    {
     "data": {
      "text/plain": [
       "array([[74, 48, 47, 16, 71, 55],\n",
       "       [69, 24, 40, 99, 20,  7],\n",
       "       [32, 47, 98, 85, 20, 23]], dtype=int32)"
      ]
     },
     "execution_count": 7,
     "metadata": {},
     "output_type": "execute_result"
    }
   ],
   "source": [
    "arr"
   ]
  },
  {
   "cell_type": "code",
   "execution_count": 12,
   "id": "10d43779-d4e2-4efc-8d24-7c7444989921",
   "metadata": {},
   "outputs": [
    {
     "data": {
      "text/plain": [
       "array([74, 48, 47, 16, 71, 55, 69, 24, 40, 99, 20,  7, 32, 47, 98, 85, 20,\n",
       "       23], dtype=int32)"
      ]
     },
     "execution_count": 12,
     "metadata": {},
     "output_type": "execute_result"
    }
   ],
   "source": [
    "# C works as row wise \n",
    "arr.flatten(order='C')"
   ]
  },
  {
   "cell_type": "code",
   "execution_count": 9,
   "id": "d11f1ab8-7dc8-4b16-8ce2-187027f6235f",
   "metadata": {},
   "outputs": [
    {
     "data": {
      "text/plain": [
       "array([[74, 48, 47, 16, 71, 55],\n",
       "       [69, 24, 40, 99, 20,  7],\n",
       "       [32, 47, 98, 85, 20, 23]], dtype=int32)"
      ]
     },
     "execution_count": 9,
     "metadata": {},
     "output_type": "execute_result"
    }
   ],
   "source": [
    "arr"
   ]
  },
  {
   "cell_type": "code",
   "execution_count": 10,
   "id": "71a5e9ce-d0bd-4f05-82c2-5ba8572b8cb0",
   "metadata": {},
   "outputs": [
    {
     "data": {
      "text/plain": [
       "array([74, 69, 32, 48, 24, 47, 47, 40, 98, 16, 99, 85, 71, 20, 20, 55,  7,\n",
       "       23], dtype=int32)"
      ]
     },
     "execution_count": 10,
     "metadata": {},
     "output_type": "execute_result"
    }
   ],
   "source": [
    "# F works as column wise\n",
    "arr.flatten(order= 'F')"
   ]
  },
  {
   "cell_type": "code",
   "execution_count": 11,
   "id": "ecb47710-7a57-4995-b533-22c06f7918b6",
   "metadata": {},
   "outputs": [
    {
     "data": {
      "text/plain": [
       "array([[74, 48, 47, 16, 71, 55],\n",
       "       [69, 24, 40, 99, 20,  7],\n",
       "       [32, 47, 98, 85, 20, 23]], dtype=int32)"
      ]
     },
     "execution_count": 11,
     "metadata": {},
     "output_type": "execute_result"
    }
   ],
   "source": [
    "arr"
   ]
  },
  {
   "cell_type": "code",
   "execution_count": 13,
   "id": "8b6f32ff-aa08-480e-9527-a7316a6129df",
   "metadata": {},
   "outputs": [
    {
     "data": {
      "text/plain": [
       "array([74, 48, 47, 16, 71, 55, 69, 24, 40, 99, 20,  7, 32, 47, 98, 85, 20,\n",
       "       23], dtype=int32)"
      ]
     },
     "execution_count": 13,
     "metadata": {},
     "output_type": "execute_result"
    }
   ],
   "source": [
    "arr.flatten(order='A')"
   ]
  },
  {
   "cell_type": "code",
   "execution_count": 14,
   "id": "70a51afe-c3fb-482b-a471-15c9b7b3d499",
   "metadata": {},
   "outputs": [
    {
     "data": {
      "text/plain": [
       "array([[74, 48, 47, 16, 71, 55],\n",
       "       [69, 24, 40, 99, 20,  7],\n",
       "       [32, 47, 98, 85, 20, 23]], dtype=int32)"
      ]
     },
     "execution_count": 14,
     "metadata": {},
     "output_type": "execute_result"
    }
   ],
   "source": [
    "arr"
   ]
  },
  {
   "cell_type": "code",
   "execution_count": 17,
   "id": "1c813ab8-c6f4-4b15-9fcc-81f73a9ceda8",
   "metadata": {},
   "outputs": [
    {
     "data": {
      "text/plain": [
       "array([74, 48, 47, 16, 71, 55, 69, 24, 40, 99, 20,  7, 32, 47, 98, 85, 20,\n",
       "       23], dtype=int32)"
      ]
     },
     "execution_count": 17,
     "metadata": {},
     "output_type": "execute_result"
    }
   ],
   "source": [
    "arr.flatten(order='K')"
   ]
  },
  {
   "cell_type": "code",
   "execution_count": 18,
   "id": "6232a457-919b-4173-8f9f-a74c81183e2c",
   "metadata": {},
   "outputs": [
    {
     "data": {
      "text/plain": [
       "array([[74, 48, 47, 16, 71, 55],\n",
       "       [69, 24, 40, 99, 20,  7],\n",
       "       [32, 47, 98, 85, 20, 23]], dtype=int32)"
      ]
     },
     "execution_count": 18,
     "metadata": {},
     "output_type": "execute_result"
    }
   ],
   "source": [
    "arr"
   ]
  },
  {
   "cell_type": "code",
   "execution_count": null,
   "id": "7c66d8ba-3663-4b51-9a6c-e4438fd7d6f6",
   "metadata": {},
   "outputs": [],
   "source": []
  },
  {
   "cell_type": "code",
   "execution_count": 68,
   "id": "ffb225b6-651d-4162-81c4-481841117824",
   "metadata": {},
   "outputs": [],
   "source": [
    "## colour in image (RGB values)\n",
    "## 0(black) - 255 (white colour) (1 byte or 8 bits = maximum value will be 255 not 256 because first value is 0)  \n",
    "## colours according to matrix dai data dai anda hai according to pixcels"
   ]
  },
  {
   "cell_type": "markdown",
   "id": "3e09f1a6-24bb-45ac-b683-b6a321a6d51f",
   "metadata": {},
   "source": [
    "### Matrix "
   ]
  },
  {
   "cell_type": "markdown",
   "id": "33e10551-9a3b-477e-9b4b-108433b74bce",
   "metadata": {},
   "source": [
    "#### matrix arrangement of data in rectangular form"
   ]
  },
  {
   "cell_type": "markdown",
   "id": "5777a195-6229-4bf6-b4a6-0439043730c7",
   "metadata": {
    "jp-MarkdownHeadingCollapsed": true
   },
   "source": [
    "#### Rectangular matrix"
   ]
  },
  {
   "cell_type": "code",
   "execution_count": 70,
   "id": "0bbc2854-0c1a-41b5-a656-89f07b342e4c",
   "metadata": {},
   "outputs": [
    {
     "data": {
      "text/plain": [
       "array([[58, 95, 17],\n",
       "       [27, 40, 50],\n",
       "       [81, 20, 16],\n",
       "       [41,  4, 75],\n",
       "       [ 3, 78, 87]], dtype=int32)"
      ]
     },
     "execution_count": 70,
     "metadata": {},
     "output_type": "execute_result"
    }
   ],
   "source": [
    "np.random.randint(0,100,(5,3))"
   ]
  },
  {
   "cell_type": "markdown",
   "id": "ce89d0ff-5948-471d-b5e0-831a7851bda8",
   "metadata": {},
   "source": [
    "#### Square matrix"
   ]
  },
  {
   "cell_type": "code",
   "execution_count": 81,
   "id": "8e2ab937-384c-4977-b4dc-72864638c231",
   "metadata": {},
   "outputs": [
    {
     "data": {
      "text/plain": [
       "array([[13,  8, 12,  5,  4],\n",
       "       [ 9,  9,  2,  1,  5],\n",
       "       [11, 10,  8,  7,  0],\n",
       "       [14,  6, 14,  9, 14],\n",
       "       [ 5, 12, 14,  0,  1]], dtype=int32)"
      ]
     },
     "execution_count": 81,
     "metadata": {},
     "output_type": "execute_result"
    }
   ],
   "source": [
    "np.random.randint(0,15,(5,5))"
   ]
  },
  {
   "cell_type": "markdown",
   "id": "c08cf864-f485-4ff0-af1e-3370472a3347",
   "metadata": {},
   "source": [
    "### Triangle matrix"
   ]
  },
  {
   "cell_type": "markdown",
   "id": "bbbb0f21-beff-4a16-88cb-17c8081f06a1",
   "metadata": {},
   "source": [
    "#### Upper triangle"
   ]
  },
  {
   "cell_type": "code",
   "execution_count": 6,
   "id": "02d0dc2f-1313-493a-af49-d147205080a5",
   "metadata": {},
   "outputs": [
    {
     "data": {
      "text/plain": [
       "array([[1, 2, 3],\n",
       "       [0, 4, 5],\n",
       "       [0, 0, 6]])"
      ]
     },
     "execution_count": 6,
     "metadata": {},
     "output_type": "execute_result"
    }
   ],
   "source": [
    "np.array([\n",
    "    [1,2,3],\n",
    "    [0,4,5],\n",
    "    [0,0,6]\n",
    "])"
   ]
  },
  {
   "cell_type": "markdown",
   "id": "78c3c959-9a9f-456f-94ee-3b88422ef418",
   "metadata": {},
   "source": [
    "#### Lower triangle"
   ]
  },
  {
   "cell_type": "code",
   "execution_count": 75,
   "id": "a5106261-ebc0-44c5-9451-c84774a4f4bd",
   "metadata": {},
   "outputs": [
    {
     "data": {
      "text/plain": [
       "array([[1, 0, 0],\n",
       "       [9, 4, 0],\n",
       "       [7, 2, 6]])"
      ]
     },
     "execution_count": 75,
     "metadata": {},
     "output_type": "execute_result"
    }
   ],
   "source": [
    "np.array([\n",
    "    [1,0,0],\n",
    "    [9,4,0],\n",
    "    [7,2,6]\n",
    "])"
   ]
  },
  {
   "cell_type": "markdown",
   "id": "1941d7e4-4c01-43bf-98b5-67db5666df59",
   "metadata": {},
   "source": [
    "#### Diagonal matrix"
   ]
  },
  {
   "cell_type": "code",
   "execution_count": 19,
   "id": "38fb2e4a-75b3-4deb-b8ee-23f0d28196a8",
   "metadata": {},
   "outputs": [
    {
     "data": {
      "text/plain": [
       "array([[4, 0, 0],\n",
       "       [0, 5, 0],\n",
       "       [0, 0, 9]])"
      ]
     },
     "execution_count": 19,
     "metadata": {},
     "output_type": "execute_result"
    }
   ],
   "source": [
    "np.array([\n",
    "    [4,0,0],\n",
    "    [0,5,0],\n",
    "    [0,0,9]\n",
    "])\n"
   ]
  },
  {
   "cell_type": "code",
   "execution_count": 20,
   "id": "33e231be-04b2-4e6e-ac9b-eb2281f4a9be",
   "metadata": {},
   "outputs": [
    {
     "data": {
      "text/plain": [
       "array([[1., 0., 0.],\n",
       "       [0., 1., 0.],\n",
       "       [0., 0., 1.]])"
      ]
     },
     "execution_count": 20,
     "metadata": {},
     "output_type": "execute_result"
    }
   ],
   "source": [
    "np.eye(3)"
   ]
  },
  {
   "cell_type": "code",
   "execution_count": null,
   "id": "4a5e635e-ac97-4bdd-ab1b-6ab724d2dce6",
   "metadata": {},
   "outputs": [],
   "source": []
  },
  {
   "cell_type": "markdown",
   "id": "53abb75c-a7ea-46ea-b43a-6033075d8162",
   "metadata": {},
   "source": [
    "#### Transpose matrix"
   ]
  },
  {
   "cell_type": "code",
   "execution_count": 4,
   "id": "8868910a-90fa-4c8e-adda-9382ade9c439",
   "metadata": {},
   "outputs": [],
   "source": [
    "arr = np.random.randint(0,100,(3,3))"
   ]
  },
  {
   "cell_type": "code",
   "execution_count": 5,
   "id": "6c380b13-05ad-4fdf-a8fb-98a5557866ff",
   "metadata": {},
   "outputs": [
    {
     "data": {
      "text/plain": [
       "array([[26, 96, 51],\n",
       "       [99, 96, 19],\n",
       "       [ 1, 60, 89]], dtype=int32)"
      ]
     },
     "execution_count": 5,
     "metadata": {},
     "output_type": "execute_result"
    }
   ],
   "source": [
    "arr"
   ]
  },
  {
   "cell_type": "code",
   "execution_count": 6,
   "id": "e3aa822b-b7af-4f1c-9527-a176e8c909d5",
   "metadata": {},
   "outputs": [
    {
     "data": {
      "text/plain": [
       "array([[26, 99,  1],\n",
       "       [96, 96, 60],\n",
       "       [51, 19, 89]], dtype=int32)"
      ]
     },
     "execution_count": 6,
     "metadata": {},
     "output_type": "execute_result"
    }
   ],
   "source": [
    "arr.transpose()"
   ]
  },
  {
   "cell_type": "markdown",
   "id": "3a3c32ef-cf48-485e-84ba-0b3ec5a4a7ce",
   "metadata": {},
   "source": [
    "#### One and Zero matrix"
   ]
  },
  {
   "cell_type": "code",
   "execution_count": 22,
   "id": "bb9578b1-a9fe-46e2-96c6-1312ed05db5f",
   "metadata": {},
   "outputs": [],
   "source": [
    "zero = np.zeros((5,5))"
   ]
  },
  {
   "cell_type": "code",
   "execution_count": 24,
   "id": "d34c6172-873d-4f58-a64c-554462ece730",
   "metadata": {},
   "outputs": [
    {
     "data": {
      "text/plain": [
       "array([[0., 0., 0., 0., 0.],\n",
       "       [0., 0., 0., 0., 0.],\n",
       "       [0., 0., 0., 0., 0.],\n",
       "       [0., 0., 0., 0., 0.],\n",
       "       [0., 0., 0., 0., 0.]])"
      ]
     },
     "execution_count": 24,
     "metadata": {},
     "output_type": "execute_result"
    }
   ],
   "source": [
    "zero"
   ]
  },
  {
   "cell_type": "code",
   "execution_count": 23,
   "id": "0fb5a990-619d-4a34-9d13-7fef41b52ea9",
   "metadata": {},
   "outputs": [
    {
     "data": {
      "text/plain": [
       "array([0., 0., 0., 0., 0., 0.])"
      ]
     },
     "execution_count": 23,
     "metadata": {},
     "output_type": "execute_result"
    }
   ],
   "source": [
    "np.zeros(6)"
   ]
  },
  {
   "cell_type": "code",
   "execution_count": 25,
   "id": "051d2ba3-4cf4-4792-bc6e-0474f632a236",
   "metadata": {},
   "outputs": [
    {
     "data": {
      "text/plain": [
       "array([1., 1., 1., 1., 1., 1.])"
      ]
     },
     "execution_count": 25,
     "metadata": {},
     "output_type": "execute_result"
    }
   ],
   "source": [
    "np.ones(6)"
   ]
  },
  {
   "cell_type": "code",
   "execution_count": 26,
   "id": "bc1c2579-1edd-4492-ae5e-0f8997f14604",
   "metadata": {},
   "outputs": [
    {
     "data": {
      "text/plain": [
       "array([[1., 1., 1.],\n",
       "       [1., 1., 1.],\n",
       "       [1., 1., 1.]])"
      ]
     },
     "execution_count": 26,
     "metadata": {},
     "output_type": "execute_result"
    }
   ],
   "source": [
    "np.ones((3,3))"
   ]
  },
  {
   "cell_type": "code",
   "execution_count": null,
   "id": "b829747c-6f3d-4d2e-8cf3-7d69461e6704",
   "metadata": {},
   "outputs": [],
   "source": []
  }
 ],
 "metadata": {
  "kernelspec": {
   "display_name": "Python [conda env:base] *",
   "language": "python",
   "name": "conda-base-py"
  },
  "language_info": {
   "codemirror_mode": {
    "name": "ipython",
    "version": 3
   },
   "file_extension": ".py",
   "mimetype": "text/x-python",
   "name": "python",
   "nbconvert_exporter": "python",
   "pygments_lexer": "ipython3",
   "version": "3.13.5"
  }
 },
 "nbformat": 4,
 "nbformat_minor": 5
}
